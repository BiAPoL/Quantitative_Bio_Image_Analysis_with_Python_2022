{
 "cells": [
  {
   "cell_type": "markdown",
   "id": "c6e9b5ba-4fc4-4760-929b-3c83e7caeb90",
   "metadata": {},
   "source": [
    "# Stackview"
   ]
  },
  {
   "cell_type": "markdown",
   "id": "a1ea0451-c019-4932-b0d7-f841a7a266c1",
   "metadata": {},
   "source": [
    "https://github.com/haesleinhuepf/stackview"
   ]
  },
  {
   "cell_type": "code",
   "execution_count": null,
   "id": "8d85b5df-91b4-4bb6-b6f1-25d25cca237b",
   "metadata": {},
   "outputs": [],
   "source": []
  }
 ],
 "metadata": {
  "kernelspec": {
   "display_name": "Python 3 (ipykernel)",
   "language": "python",
   "name": "python3"
  },
  "language_info": {
   "codemirror_mode": {
    "name": "ipython",
    "version": 3
   },
   "file_extension": ".py",
   "mimetype": "text/x-python",
   "name": "python",
   "nbconvert_exporter": "python",
   "pygments_lexer": "ipython3",
   "version": "3.9.13"
  }
 },
 "nbformat": 4,
 "nbformat_minor": 5
}