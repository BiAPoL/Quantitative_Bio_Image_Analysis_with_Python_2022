{
 "cells": [
  {
   "cell_type": "markdown",
   "id": "9021567d-e4ad-4b5d-84ba-6a136ea1abdb",
   "metadata": {},
   "source": [
    "# Working with images in Python"
   ]
  },
  {
   "cell_type": "markdown",
   "id": "d8c0d9fb-cb32-42a9-b45f-bb6e22b733a8",
   "metadata": {},
   "source": [
    "Ideas: \n",
    "- Numpy array, openning and printing small images with scikit-image.io"
   ]
  },
  {
   "cell_type": "code",
   "execution_count": null,
   "id": "89853a5e-c3f0-46bd-a109-c696a070baea",
   "metadata": {},
   "outputs": [],
   "source": []
  }
 ],
 "metadata": {
  "kernelspec": {
   "display_name": "Python 3 (ipykernel)",
   "language": "python",
   "name": "python3"
  },
  "language_info": {
   "codemirror_mode": {
    "name": "ipython",
    "version": 3
   },
   "file_extension": ".py",
   "mimetype": "text/x-python",
   "name": "python",
   "nbconvert_exporter": "python",
   "pygments_lexer": "ipython3",
   "version": "3.9.13"
  }
 },
 "nbformat": 4,
 "nbformat_minor": 5
}
