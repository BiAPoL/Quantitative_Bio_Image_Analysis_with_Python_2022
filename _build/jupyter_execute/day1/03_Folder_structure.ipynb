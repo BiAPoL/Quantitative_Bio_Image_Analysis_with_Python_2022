{
 "cells": [
  {
   "cell_type": "markdown",
   "id": "9021567d-e4ad-4b5d-84ba-6a136ea1abdb",
   "metadata": {
    "tags": []
   },
   "source": [
    "# Folder structure"
   ]
  },
  {
   "cell_type": "markdown",
   "id": "bf9ae185-1a90-4a63-806d-7be368dbecaf",
   "metadata": {},
   "source": [
    "Ideas: \n",
    "- os or pathlib libraries\n",
    "- no need to introduce for loops and conditions, but good notebook to already use them"
   ]
  },
  {
   "cell_type": "code",
   "execution_count": null,
   "id": "e8ed649d-8c99-473c-a711-f70b1157cac7",
   "metadata": {},
   "outputs": [],
   "source": []
  }
 ],
 "metadata": {
  "kernelspec": {
   "display_name": "Python 3 (ipykernel)",
   "language": "python",
   "name": "python3"
  },
  "language_info": {
   "codemirror_mode": {
    "name": "ipython",
    "version": 3
   },
   "file_extension": ".py",
   "mimetype": "text/x-python",
   "name": "python",
   "nbconvert_exporter": "python",
   "pygments_lexer": "ipython3",
   "version": "3.9.13"
  }
 },
 "nbformat": 4,
 "nbformat_minor": 5
}