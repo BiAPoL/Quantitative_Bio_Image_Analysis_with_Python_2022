{
 "cells": [
  {
   "cell_type": "markdown",
   "id": "d016ec71-f841-465a-b71a-f44bd891085b",
   "metadata": {},
   "source": [
    "# Creating Widgets from Functions - Part 2"
   ]
  },
  {
   "cell_type": "markdown",
   "id": "07cae4d0-b975-4ca7-b5b1-e95eb34d4c67",
   "metadata": {},
   "source": [
    "In this notebook, we show a few extra widget options that can be created with [magicgui](https://napari.org/magicgui/)."
   ]
  },
  {
   "cell_type": "code",
   "execution_count": 1,
   "id": "4443fbe9-7656-4c54-8305-70d7e9504b0f",
   "metadata": {},
   "outputs": [],
   "source": [
    "from skimage.io import imread\n",
    "import matplotlib.pyplot as plt\n",
    "from magicgui import magicgui\n",
    "import napari\n",
    "from napari.utils import nbscreenshot"
   ]
  },
  {
   "cell_type": "markdown",
   "id": "e778a446-a888-407e-abc6-94e5f5b9cc42",
   "metadata": {},
   "source": [
    "## Creating widgets from external functions"
   ]
  },
  {
   "cell_type": "markdown",
   "id": "27d01291-ab3b-4df2-8b80-8217fdecdd68",
   "metadata": {},
   "source": [
    "We can also import annotated functions from a python file and make widgets from them."
   ]
  },
  {
   "cell_type": "code",
   "execution_count": 2,
   "id": "4bf411d5-b031-466c-a473-02cf635460f1",
   "metadata": {},
   "outputs": [],
   "source": [
    "from my_module import preprocess_image, segment_image, subtract_bg_and_denoise, extract_features"
   ]
  },
  {
   "cell_type": "markdown",
   "id": "5a4e7595-0fd8-4848-8d69-b327a1c779b8",
   "metadata": {},
   "source": [
    "Take a look at the local package [my_module]('my_module.py') to check the function annotations"
   ]
  },
  {
   "cell_type": "code",
   "execution_count": 3,
   "id": "87df1b1a-0137-4988-9a01-431924b0fc97",
   "metadata": {},
   "outputs": [
    {
     "data": {
      "text/plain": [
       "<Image layer 'blobs' at 0x277bfd62730>"
      ]
     },
     "execution_count": 3,
     "metadata": {},
     "output_type": "execute_result"
    }
   ],
   "source": [
    "image = imread(\"../../data/blobs.tif\")\n",
    "viewer = napari.Viewer()\n",
    "viewer.add_image(image, name = 'blobs')"
   ]
  },
  {
   "cell_type": "code",
   "execution_count": 4,
   "id": "58ca732a-5119-4987-a11b-fc5b98d014ef",
   "metadata": {},
   "outputs": [
    {
     "data": {
      "text/plain": [
       "<napari._qt.widgets.qt_viewer_dock_widget.QtViewerDockWidget at 0x277d42d35e0>"
      ]
     },
     "execution_count": 4,
     "metadata": {},
     "output_type": "execute_result"
    }
   ],
   "source": [
    "denoise_widget = magicgui(preprocess_image)\n",
    "viewer.window.add_dock_widget(denoise_widget)"
   ]
  },
  {
   "cell_type": "code",
   "execution_count": 5,
   "id": "68db7493-c6cf-47fa-844f-fa83818b7de0",
   "metadata": {},
   "outputs": [
    {
     "data": {
      "text/plain": [
       "<napari._qt.widgets.qt_viewer_dock_widget.QtViewerDockWidget at 0x277d42efb80>"
      ]
     },
     "execution_count": 5,
     "metadata": {},
     "output_type": "execute_result"
    }
   ],
   "source": [
    "segment_widget = magicgui(segment_image)\n",
    "viewer.window.add_dock_widget(segment_widget)"
   ]
  },
  {
   "cell_type": "code",
   "execution_count": 6,
   "id": "4ff36d8f-efd3-441c-86bf-653d8b0c0d3c",
   "metadata": {},
   "outputs": [
    {
     "data": {
      "text/plain": [
       "<napari._qt.widgets.qt_viewer_dock_widget.QtViewerDockWidget at 0x277d42f1ca0>"
      ]
     },
     "execution_count": 6,
     "metadata": {},
     "output_type": "execute_result"
    }
   ],
   "source": [
    "subtract_bg_and_denoise_widget = magicgui(subtract_bg_and_denoise)\n",
    "viewer.window.add_dock_widget(subtract_bg_and_denoise_widget)"
   ]
  },
  {
   "cell_type": "code",
   "execution_count": 7,
   "id": "29a62828-31ba-4fa3-94e9-7bac7ce51d71",
   "metadata": {},
   "outputs": [
    {
     "data": {
      "text/plain": [
       "<napari._qt.widgets.qt_viewer_dock_widget.QtViewerDockWidget at 0x277d42f1b80>"
      ]
     },
     "execution_count": 7,
     "metadata": {},
     "output_type": "execute_result"
    }
   ],
   "source": [
    "extract_features_widget = magicgui(extract_features)\n",
    "viewer.window.add_dock_widget(extract_features_widget)"
   ]
  },
  {
   "cell_type": "markdown",
   "id": "9c989175-4a97-4bdd-bcac-d0c8e4b2e75f",
   "metadata": {},
   "source": [
    "## Exercise"
   ]
  },
  {
   "cell_type": "markdown",
   "id": "cb73f037-4e94-4573-8a4e-70cd0b98b736",
   "metadata": {},
   "source": [
    "Create your own image processing function that receives an image and returns another image. Add annotations to its arguments. Call it from code and send the output to napari.\n",
    "\n",
    "Then, generate a widget with magicgui and add the widget to napari. Run the widget from napari. Compare your results."
   ]
  },
  {
   "cell_type": "code",
   "execution_count": null,
   "id": "e3813fb5-1dcf-4d23-88e2-849951a763b4",
   "metadata": {},
   "outputs": [],
   "source": []
  }
 ],
 "metadata": {
  "kernelspec": {
   "display_name": "Python 3 (ipykernel)",
   "language": "python",
   "name": "python3"
  },
  "language_info": {
   "codemirror_mode": {
    "name": "ipython",
    "version": 3
   },
   "file_extension": ".py",
   "mimetype": "text/x-python",
   "name": "python",
   "nbconvert_exporter": "python",
   "pygments_lexer": "ipython3",
   "version": "3.9.13"
  },
  "widgets": {
   "application/vnd.jupyter.widget-state+json": {
    "state": {},
    "version_major": 2,
    "version_minor": 0
   }
  }
 },
 "nbformat": 4,
 "nbformat_minor": 5
}
