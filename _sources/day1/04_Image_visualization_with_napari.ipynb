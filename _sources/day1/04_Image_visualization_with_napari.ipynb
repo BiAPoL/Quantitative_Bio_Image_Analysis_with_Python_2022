{
 "cells": [
  {
   "cell_type": "markdown",
   "id": "9021567d-e4ad-4b5d-84ba-6a136ea1abdb",
   "metadata": {},
   "source": [
    "# Image Visualization"
   ]
  },
  {
   "cell_type": "markdown",
   "id": "586293a2-f510-4109-a264-95c7ac10d296",
   "metadata": {},
   "source": [
    "## Matplotlib (inline plots)"
   ]
  },
  {
   "cell_type": "code",
   "execution_count": null,
   "id": "3a7a6090-b1a9-4623-a53e-1a90143bb642",
   "metadata": {},
   "outputs": [],
   "source": []
  },
  {
   "cell_type": "markdown",
   "id": "66ba5acb-0fd9-4fc3-8a4b-2f0e5cb8e88e",
   "metadata": {},
   "source": [
    "## napari (3D interactivity)"
   ]
  },
  {
   "cell_type": "code",
   "execution_count": null,
   "id": "750aebf8-a127-4cb0-8686-617ddc90fe2e",
   "metadata": {},
   "outputs": [],
   "source": []
  }
 ],
 "metadata": {
  "kernelspec": {
   "display_name": "Python 3 (ipykernel)",
   "language": "python",
   "name": "python3"
  },
  "language_info": {
   "codemirror_mode": {
    "name": "ipython",
    "version": 3
   },
   "file_extension": ".py",
   "mimetype": "text/x-python",
   "name": "python",
   "nbconvert_exporter": "python",
   "pygments_lexer": "ipython3",
   "version": "3.9.13"
  }
 },
 "nbformat": 4,
 "nbformat_minor": 5
}
