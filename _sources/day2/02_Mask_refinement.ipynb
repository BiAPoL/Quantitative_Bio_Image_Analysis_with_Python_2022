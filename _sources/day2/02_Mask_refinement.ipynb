{
 "cells": [
  {
   "cell_type": "markdown",
   "id": "9021567d-e4ad-4b5d-84ba-6a136ea1abdb",
   "metadata": {},
   "source": [
    "# Mask Refinement"
   ]
  },
  {
   "cell_type": "markdown",
   "id": "c4fc4e37-78d5-4f9d-bc8f-fbcd8d66589e",
   "metadata": {},
   "source": [
    "## Morphological Operators"
   ]
  },
  {
   "cell_type": "markdown",
   "id": "31dd541a-84eb-4bdf-a3ce-35d2f5271c1d",
   "metadata": {},
   "source": [
    "skimage.morphology"
   ]
  },
  {
   "cell_type": "code",
   "execution_count": null,
   "id": "b438358f-6fda-4aa2-9144-741837546efa",
   "metadata": {},
   "outputs": [],
   "source": []
  }
 ],
 "metadata": {
  "kernelspec": {
   "display_name": "Python 3 (ipykernel)",
   "language": "python",
   "name": "python3"
  },
  "language_info": {
   "codemirror_mode": {
    "name": "ipython",
    "version": 3
   },
   "file_extension": ".py",
   "mimetype": "text/x-python",
   "name": "python",
   "nbconvert_exporter": "python",
   "pygments_lexer": "ipython3",
   "version": "3.9.13"
  }
 },
 "nbformat": 4,
 "nbformat_minor": 5
}
