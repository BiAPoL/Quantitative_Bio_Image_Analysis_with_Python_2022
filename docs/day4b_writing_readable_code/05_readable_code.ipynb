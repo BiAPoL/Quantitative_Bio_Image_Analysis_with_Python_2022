{
 "cells": [
  {
   "cell_type": "markdown",
   "id": "798022dd-fa69-4ddd-9049-922c5583275c",
   "metadata": {},
   "source": [
    "# Writing good code\n",
    "## Writing readable code\n",
    "Technically, python allows us to write code like this."
   ]
  },
  {
   "cell_type": "code",
   "execution_count": 1,
   "id": "80e01b1a-431c-4c2b-ae1c-3a889d2f81d5",
   "metadata": {},
   "outputs": [
    {
     "name": "stdout",
     "output_type": "stream",
     "text": [
      "Yang\n"
     ]
    }
   ],
   "source": [
    "a=5;b=3;c=8;d=(a+b)/c;print(\"Yin\" if d==5 else \"Yang\")"
   ]
  },
  {
   "cell_type": "markdown",
   "id": "bd574e9a-d2a5-43a6-acf8-4af73b00181f",
   "metadata": {},
   "source": [
    "However, for readability, it is recommended to write individual statements in individual lines. Also put empty lines between sections and introduce comments to explain why things are done."
   ]
  },
  {
   "cell_type": "code",
   "execution_count": 2,
   "id": "af8aa5aa-4a9d-4f0a-8776-0a29878f23ba",
   "metadata": {},
   "outputs": [],
   "source": [
    "# initialize program\n",
    "a=5\n",
    "b=3\n",
    "c=8\n",
    "\n",
    "# compute result before we can evaluate it\n",
    "d=(a+b)/c"
   ]
  },
  {
   "cell_type": "markdown",
   "id": "a25300a1-f85b-4c9a-8629-5780b6e8aeb2",
   "metadata": {},
   "source": [
    "If you work with Jupyter notebooks, print out intermediate results to allow the reader to see what's happening."
   ]
  },
  {
   "cell_type": "code",
   "execution_count": 3,
   "id": "81b2dca6-2e25-46e7-9ad6-bee83b2256ad",
   "metadata": {},
   "outputs": [
    {
     "data": {
      "text/plain": [
       "1.0"
      ]
     },
     "execution_count": 3,
     "metadata": {},
     "output_type": "execute_result"
    }
   ],
   "source": [
    "d"
   ]
  },
  {
   "cell_type": "markdown",
   "id": "1d7342d7-7e76-437c-bee3-21fa509b31c8",
   "metadata": {},
   "source": [
    "Consider writing spaces between variables, operators and numbers, because this is easier toreadthanthat,right?"
   ]
  },
  {
   "cell_type": "code",
   "execution_count": 4,
   "id": "024f1ec4-79e8-4559-ac1e-2d8df7602b8b",
   "metadata": {},
   "outputs": [
    {
     "data": {
      "text/plain": [
       "1.0"
      ]
     },
     "execution_count": 4,
     "metadata": {},
     "output_type": "execute_result"
    }
   ],
   "source": [
    "d = (a + b) / c\n",
    "d"
   ]
  },
  {
   "cell_type": "markdown",
   "id": "30bb9bbc-5153-4bd6-aa81-6bdf479e221c",
   "metadata": {},
   "source": [
    "Some people are ok with such short statements:"
   ]
  },
  {
   "cell_type": "code",
   "execution_count": 5,
   "id": "4fb1a25d-0669-4b1e-b0d2-9ae27bf00317",
   "metadata": {},
   "outputs": [
    {
     "name": "stdout",
     "output_type": "stream",
     "text": [
      "Yang\n"
     ]
    }
   ],
   "source": [
    "print(\"Yin\" if d==5 else \"Yang\")"
   ]
  },
  {
   "cell_type": "markdown",
   "id": "e87712f2-e265-4434-9b1b-2a01d089241d",
   "metadata": {},
   "source": [
    "Others prefer to write code out."
   ]
  },
  {
   "cell_type": "code",
   "execution_count": 6,
   "id": "5db81d1a-0671-4485-b501-9c324bb2527f",
   "metadata": {},
   "outputs": [
    {
     "name": "stdout",
     "output_type": "stream",
     "text": [
      "Yang\n"
     ]
    }
   ],
   "source": [
    "if d == 5:\n",
    "    print(\"Yin\")\n",
    "else:\n",
    "    print(\"Yang\")"
   ]
  },
  {
   "cell_type": "markdown",
   "id": "fd4907ce-c38c-4d48-a0f5-c2f77a03943b",
   "metadata": {},
   "source": [
    "## Preventing code repetition\n",
    "Sometimes, we copy & paste like this multiple times to process images quickly."
   ]
  },
  {
   "cell_type": "code",
   "execution_count": 7,
   "id": "23d84e97-7c50-4a5f-a3e9-fda157acccdf",
   "metadata": {},
   "outputs": [],
   "source": [
    "import pyclesperanto_prototype as cle"
   ]
  },
  {
   "cell_type": "code",
   "execution_count": 8,
   "id": "f8f0181e-3290-4931-b77d-3ff26e1d06ab",
   "metadata": {},
   "outputs": [
    {
     "data": {
      "text/plain": [
       "44.0"
      ]
     },
     "execution_count": 8,
     "metadata": {},
     "output_type": "execute_result"
    }
   ],
   "source": [
    "image = cle.imread(\"../../data/BBBC007_batch/17P1_POS0013_D_1UL.tif\")\n",
    "labels = cle.voronoi_otsu_labeling(image, spot_sigma=3)\n",
    "number_of_nuclei = labels.max()\n",
    "number_of_nuclei"
   ]
  },
  {
   "cell_type": "code",
   "execution_count": 9,
   "id": "d1a23f73-cddc-496c-a21a-03bcfe469b20",
   "metadata": {},
   "outputs": [
    {
     "data": {
      "text/plain": [
       "41.0"
      ]
     },
     "execution_count": 9,
     "metadata": {},
     "output_type": "execute_result"
    }
   ],
   "source": [
    "image = cle.imread(\"../../data/BBBC007_batch/20P1_POS0005_D_1UL.tif\")\n",
    "labels = cle.voronoi_otsu_labeling(image, spot_sigma=3)\n",
    "number_of_nuclei = labels.max()\n",
    "number_of_nuclei"
   ]
  },
  {
   "cell_type": "code",
   "execution_count": 10,
   "id": "e7ac4af4-d786-434b-9637-e1a646f3c899",
   "metadata": {},
   "outputs": [
    {
     "data": {
      "text/plain": [
       "73.0"
      ]
     },
     "execution_count": 10,
     "metadata": {},
     "output_type": "execute_result"
    }
   ],
   "source": [
    "image = cle.imread(\"../../data/BBBC007_batch/20P1_POS0007_D_1UL.tif\")\n",
    "labels = cle.voronoi_otsu_labeling(image, spot_sigma=3)\n",
    "number_of_nuclei = labels.max()\n",
    "number_of_nuclei"
   ]
  },
  {
   "cell_type": "markdown",
   "id": "45f664ef-c36b-43a1-b4de-afb4b857ad00",
   "metadata": {},
   "source": [
    "If we wanted to now see how changing the `spot_sigma` parameter above influences the result, we would need to change this value three times. When the code becomes even longer, it may happend that we forget to change it in one place.\n",
    "\n",
    "### For-loops instead of code repetition\n",
    "One way of preventing code-repetition are for-loops."
   ]
  },
  {
   "cell_type": "code",
   "execution_count": 11,
   "id": "fcbb86dc-f20d-4f84-b73b-7ffa9174d7c6",
   "metadata": {},
   "outputs": [],
   "source": [
    "folder = \"../../data/BBBC007_batch/\"\n",
    "files = [\"17P1_POS0013_D_1UL.tif\",\n",
    "        \"20P1_POS0005_D_1UL.tif\",\n",
    "        \"20P1_POS0007_D_1UL.tif\"]"
   ]
  },
  {
   "cell_type": "code",
   "execution_count": 12,
   "id": "9b33d522-a7cd-4063-a9b5-ef006071f14a",
   "metadata": {},
   "outputs": [
    {
     "name": "stdout",
     "output_type": "stream",
     "text": [
      "17P1_POS0013_D_1UL.tif 44.0\n",
      "20P1_POS0005_D_1UL.tif 41.0\n",
      "20P1_POS0007_D_1UL.tif 73.0\n"
     ]
    }
   ],
   "source": [
    "for file in files:\n",
    "    image = cle.imread(folder + file)\n",
    "    labels = cle.voronoi_otsu_labeling(\n",
    "                    image, \n",
    "                    spot_sigma=3)\n",
    "    number_of_nuclei = labels.max()\n",
    "    print(file, number_of_nuclei)"
   ]
  },
  {
   "cell_type": "markdown",
   "id": "1fcda315-290c-43d3-aada-b92cd92602dd",
   "metadata": {},
   "source": [
    "### Functions instead of code-repetion\n",
    "We can gain even more flexibility by introducing so called helper functions, that _help_ us by doing one dedicated thing, for example counting nuclei:"
   ]
  },
  {
   "cell_type": "code",
   "execution_count": 13,
   "id": "b37c4de7-11a8-4e30-948e-57f4eeec1b93",
   "metadata": {},
   "outputs": [],
   "source": [
    "def count_nuclei(image, spot_sigma=3):\n",
    "    labels = cle.voronoi_otsu_labeling(\n",
    "                    image, \n",
    "                    spot_sigma=spot_sigma)\n",
    "    number_of_nuclei = labels.max()\n",
    "    \n",
    "    return number_of_nuclei"
   ]
  },
  {
   "cell_type": "code",
   "execution_count": 14,
   "id": "5c6750b1-9f0e-455d-864c-b17cbccbec7a",
   "metadata": {},
   "outputs": [
    {
     "data": {
      "text/plain": [
       "44.0"
      ]
     },
     "execution_count": 14,
     "metadata": {},
     "output_type": "execute_result"
    }
   ],
   "source": [
    "count_nuclei(cle.imread(folder + files[0]))"
   ]
  },
  {
   "cell_type": "code",
   "execution_count": 15,
   "id": "e4e8d662-b994-4509-89a4-8084253dd2ff",
   "metadata": {},
   "outputs": [
    {
     "data": {
      "text/plain": [
       "41.0"
      ]
     },
     "execution_count": 15,
     "metadata": {},
     "output_type": "execute_result"
    }
   ],
   "source": [
    "count_nuclei(cle.imread(folder + files[1]))"
   ]
  },
  {
   "cell_type": "code",
   "execution_count": 16,
   "id": "14a8c024-f4aa-47dd-aeed-118f0ba8c724",
   "metadata": {},
   "outputs": [
    {
     "data": {
      "text/plain": [
       "73.0"
      ]
     },
     "execution_count": 16,
     "metadata": {},
     "output_type": "execute_result"
    }
   ],
   "source": [
    "count_nuclei(cle.imread(folder + files[2]))"
   ]
  },
  {
   "cell_type": "code",
   "execution_count": 18,
   "id": "f886c39a-a59a-48d7-9eb2-a7993c197a0e",
   "metadata": {},
   "outputs": [
    {
     "data": {
      "text/plain": [
       "68.0"
      ]
     },
     "execution_count": 18,
     "metadata": {},
     "output_type": "execute_result"
    }
   ],
   "source": [
    "count_nuclei(cle.imread(folder + files[2]), spot_sigma=5)"
   ]
  },
  {
   "cell_type": "code",
   "execution_count": null,
   "id": "09b4d36f-0aed-421a-b4b0-708015851e33",
   "metadata": {},
   "outputs": [],
   "source": []
  }
 ],
 "metadata": {
  "kernelspec": {
   "display_name": "Python 3 (ipykernel)",
   "language": "python",
   "name": "python3"
  },
  "language_info": {
   "codemirror_mode": {
    "name": "ipython",
    "version": 3
   },
   "file_extension": ".py",
   "mimetype": "text/x-python",
   "name": "python",
   "nbconvert_exporter": "python",
   "pygments_lexer": "ipython3",
   "version": "3.9.13"
  }
 },
 "nbformat": 4,
 "nbformat_minor": 5
}
