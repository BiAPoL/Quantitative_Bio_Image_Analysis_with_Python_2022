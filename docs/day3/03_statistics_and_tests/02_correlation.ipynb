{
 "cells": [
  {
   "cell_type": "markdown",
   "id": "02910504-f232-45ea-8ecc-10af110bbc44",
   "metadata": {},
   "source": [
    "# Correlation\n",
    "For measuring the relationship between two measurements, we can take [Pearson's definition of a correlation coefficient](https://en.wikipedia.org/wiki/Pearson_correlation_coefficient)\n",
    "\n",
    "The data for the following expriment is taken from [Altman & Bland, The Statistician 32, 1983](https://www-users.york.ac.uk/~mb55/meas/ab83.pdf), Fig. 1."
   ]
  },
  {
   "cell_type": "code",
   "execution_count": 1,
   "id": "c5bcaaa4-94fa-4687-a454-d5459da53234",
   "metadata": {},
   "outputs": [],
   "source": [
    "import numpy as np\n",
    "import matplotlib.pyplot as plt\n",
    "import pandas as pd\n",
    "from scipy import stats\n",
    "import pandas as pd\n",
    "from sklearn import datasets"
   ]
  },
  {
   "cell_type": "code",
   "execution_count": 2,
   "id": "e0ddfe48-fd04-49dd-b51c-9ed53791168b",
   "metadata": {},
   "outputs": [
    {
     "data": {
      "image/png": "[encoded data removed]",
      "text/plain": [
       "<Figure size 640x480 with 1 Axes>"
      ]
     },
     "metadata": {},
     "output_type": "display_data"
    }
   ],
   "source": [
    "# new measurements\n",
    "measurement_1 = [130, 132, 138, 145, 148, 150, 155, 160, 161, 170, 175, 178, 182, 182, 188, 195, 195, 200, 200, 204, 210, 210, 215, 220, 200]\n",
    "measurement_2 = [122, 130, 135, 132, 140, 151, 145, 150, 160, 150, 160, 179, 168, 175, 187, 170, 182, 179, 195, 190, 180, 195, 210, 190, 200]\n",
    "\n",
    "# scatter plot\n",
    "plt.plot(measurement_1, measurement_2, \"o\")\n",
    "plt.plot([120, 220], [120, 220])\n",
    "plt.axis([120, 220, 120, 220])\n",
    "plt.show()"
   ]
  },
  {
   "cell_type": "markdown",
   "id": "75e47e12-e6ef-473a-9940-8acf61618098",
   "metadata": {},
   "source": [
    "## Pearson correlation coefficient\n",
    "\n",
    "We can use the Pearson correlation coefficient to calculate the Pearson correlation coefficient:\n",
    "\n",
    "$r_{xy} = \\frac{\\sum_{i=1}^n (x_i - \\mu_x)(y_i - \\mu_y)}{\\sqrt{(\\sum_{i=1}^n(x_i - \\mu_x)^2}\\sqrt{\\sum_{i=1}^n(y_i - \\mu_y)^2}}$\n",
    "\n",
    "### Exercise:\n",
    "Try to implement this yourself!\n",
    "\n",
    "*Hint*: The expressions in the denominator are equivalent to the standard deviations of the data!"
   ]
  },
  {
   "cell_type": "code",
   "execution_count": null,
   "id": "9f121b8b-62c3-4b3b-8f9b-d0a2fdbbdf4b",
   "metadata": {},
   "outputs": [],
   "source": []
  },
  {
   "cell_type": "markdown",
   "id": "313cb6f5-3f27-4454-bc6f-6ef9273f29f6",
   "metadata": {},
   "source": [
    "...or use the implementation from [scipy](https://scipy.org/):"
   ]
  },
  {
   "cell_type": "code",
   "execution_count": 3,
   "id": "d9e1ed4b-16da-49f4-a8db-9ef94822eb35",
   "metadata": {},
   "outputs": [
    {
     "data": {
      "text/plain": [
       "PearsonRResult(statistic=0.9435300113035255, pvalue=1.6002440484659832e-12)"
      ]
     },
     "execution_count": 3,
     "metadata": {},
     "output_type": "execute_result"
    }
   ],
   "source": [
    "# Determine Pearson's r using scipy\n",
    "stats.pearsonr(measurement_1, measurement_2)"
   ]
  },
  {
   "cell_type": "code",
   "execution_count": null,
   "id": "87593a4e-67b9-429e-9369-bd91d0e77696",
   "metadata": {},
   "outputs": [],
   "source": []
  },
  {
   "cell_type": "markdown",
   "id": "65d4c059-fcf2-4d47-a424-44d0a0aabeaf",
   "metadata": {},
   "source": [
    "## Ranking data\n",
    "\n",
    "Ranking allows to obtain a [non-parametric distribution](https://en.wikipedia.org/wiki/Nonparametric_statistics) from our data. In essence, we replace every value with its rank. This iboils down to sorting all the values and replacing the value with its index in the sorted list:"
   ]
  },
  {
   "cell_type": "code",
   "execution_count": 4,
   "id": "08d53a23-ab1e-4464-a383-502022a29510",
   "metadata": {},
   "outputs": [
    {
     "data": {
      "text/html": [
       "<div>\n",
       "<style scoped>\n",
       "    .dataframe tbody tr th:only-of-type {\n",
       "        vertical-align: middle;\n",
       "    }\n",
       "\n",
       "    .dataframe tbody tr th {\n",
       "        vertical-align: top;\n",
       "    }\n",
       "\n",
       "    .dataframe thead th {\n",
       "        text-align: right;\n",
       "    }\n",
       "</style>\n",
       "<table border=\"1\" class=\"dataframe\">\n",
       "  <thead>\n",
       "    <tr style=\"text-align: right;\">\n",
       "      <th></th>\n",
       "      <th>Measurement 1</th>\n",
       "      <th>Measurement 2</th>\n",
       "    </tr>\n",
       "  </thead>\n",
       "  <tbody>\n",
       "    <tr>\n",
       "      <th>0</th>\n",
       "      <td>130</td>\n",
       "      <td>122</td>\n",
       "    </tr>\n",
       "    <tr>\n",
       "      <th>1</th>\n",
       "      <td>132</td>\n",
       "      <td>130</td>\n",
       "    </tr>\n",
       "    <tr>\n",
       "      <th>2</th>\n",
       "      <td>138</td>\n",
       "      <td>135</td>\n",
       "    </tr>\n",
       "    <tr>\n",
       "      <th>3</th>\n",
       "      <td>145</td>\n",
       "      <td>132</td>\n",
       "    </tr>\n",
       "    <tr>\n",
       "      <th>4</th>\n",
       "      <td>148</td>\n",
       "      <td>140</td>\n",
       "    </tr>\n",
       "    <tr>\n",
       "      <th>5</th>\n",
       "      <td>150</td>\n",
       "      <td>151</td>\n",
       "    </tr>\n",
       "    <tr>\n",
       "      <th>6</th>\n",
       "      <td>155</td>\n",
       "      <td>145</td>\n",
       "    </tr>\n",
       "    <tr>\n",
       "      <th>7</th>\n",
       "      <td>160</td>\n",
       "      <td>150</td>\n",
       "    </tr>\n",
       "    <tr>\n",
       "      <th>8</th>\n",
       "      <td>161</td>\n",
       "      <td>160</td>\n",
       "    </tr>\n",
       "    <tr>\n",
       "      <th>9</th>\n",
       "      <td>170</td>\n",
       "      <td>150</td>\n",
       "    </tr>\n",
       "    <tr>\n",
       "      <th>10</th>\n",
       "      <td>175</td>\n",
       "      <td>160</td>\n",
       "    </tr>\n",
       "    <tr>\n",
       "      <th>11</th>\n",
       "      <td>178</td>\n",
       "      <td>179</td>\n",
       "    </tr>\n",
       "    <tr>\n",
       "      <th>12</th>\n",
       "      <td>182</td>\n",
       "      <td>168</td>\n",
       "    </tr>\n",
       "    <tr>\n",
       "      <th>13</th>\n",
       "      <td>182</td>\n",
       "      <td>175</td>\n",
       "    </tr>\n",
       "    <tr>\n",
       "      <th>14</th>\n",
       "      <td>188</td>\n",
       "      <td>187</td>\n",
       "    </tr>\n",
       "    <tr>\n",
       "      <th>15</th>\n",
       "      <td>195</td>\n",
       "      <td>170</td>\n",
       "    </tr>\n",
       "    <tr>\n",
       "      <th>16</th>\n",
       "      <td>195</td>\n",
       "      <td>182</td>\n",
       "    </tr>\n",
       "    <tr>\n",
       "      <th>17</th>\n",
       "      <td>200</td>\n",
       "      <td>179</td>\n",
       "    </tr>\n",
       "    <tr>\n",
       "      <th>18</th>\n",
       "      <td>200</td>\n",
       "      <td>195</td>\n",
       "    </tr>\n",
       "    <tr>\n",
       "      <th>19</th>\n",
       "      <td>204</td>\n",
       "      <td>190</td>\n",
       "    </tr>\n",
       "    <tr>\n",
       "      <th>20</th>\n",
       "      <td>210</td>\n",
       "      <td>180</td>\n",
       "    </tr>\n",
       "    <tr>\n",
       "      <th>21</th>\n",
       "      <td>210</td>\n",
       "      <td>195</td>\n",
       "    </tr>\n",
       "    <tr>\n",
       "      <th>22</th>\n",
       "      <td>215</td>\n",
       "      <td>210</td>\n",
       "    </tr>\n",
       "    <tr>\n",
       "      <th>23</th>\n",
       "      <td>220</td>\n",
       "      <td>190</td>\n",
       "    </tr>\n",
       "    <tr>\n",
       "      <th>24</th>\n",
       "      <td>200</td>\n",
       "      <td>200</td>\n",
       "    </tr>\n",
       "  </tbody>\n",
       "</table>\n",
       "</div>"
      ],
      "text/plain": [
       "    Measurement 1  Measurement 2\n",
       "0             130            122\n",
       "1             132            130\n",
       "2             138            135\n",
       "3             145            132\n",
       "4             148            140\n",
       "5             150            151\n",
       "6             155            145\n",
       "7             160            150\n",
       "8             161            160\n",
       "9             170            150\n",
       "10            175            160\n",
       "11            178            179\n",
       "12            182            168\n",
       "13            182            175\n",
       "14            188            187\n",
       "15            195            170\n",
       "16            195            182\n",
       "17            200            179\n",
       "18            200            195\n",
       "19            204            190\n",
       "20            210            180\n",
       "21            210            195\n",
       "22            215            210\n",
       "23            220            190\n",
       "24            200            200"
      ]
     },
     "execution_count": 4,
     "metadata": {},
     "output_type": "execute_result"
    }
   ],
   "source": [
    "df = pd.DataFrame([measurement_1, measurement_2]).T\n",
    "df.columns = ['Measurement 1', 'Measurement 2']\n",
    "df"
   ]
  },
  {
   "cell_type": "markdown",
   "id": "29bd8f35-45ec-4230-8755-988fd2324022",
   "metadata": {},
   "source": [
    "To rank the data, use, the `rankdata` functions from [scipy.stats](https://docs.scipy.org/doc/scipy/reference/generated/scipy.stats.rankdata.html)"
   ]
  },
  {
   "cell_type": "code",
   "execution_count": 5,
   "id": "91a6550b-7d4a-4dd3-8a20-9205d482c9c0",
   "metadata": {},
   "outputs": [],
   "source": [
    "measurement_1_ranked = stats.rankdata(measurement_1)\n",
    "measurement_2_ranked = stats.rankdata(measurement_2)"
   ]
  },
  {
   "cell_type": "code",
   "execution_count": 6,
   "id": "073461d5-d874-489b-8ef0-3642daba12f5",
   "metadata": {},
   "outputs": [
    {
     "data": {
      "text/plain": [
       "Text(0, 0.5, 'Rank measurement 2')"
      ]
     },
     "execution_count": 6,
     "metadata": {},
     "output_type": "execute_result"
    },
    {
     "data": {
      "image/png": "[encoded data removed]",
      "text/plain": [
       "<Figure size 640x480 with 1 Axes>"
      ]
     },
     "metadata": {},
     "output_type": "display_data"
    }
   ],
   "source": [
    "fig, ax = plt.subplots()\n",
    "ax.scatter(measurement_1_ranked, measurement_2_ranked)\n",
    "ax.set_xlabel('Rank measurement 1')\n",
    "ax.set_ylabel('Rank measurement 2')"
   ]
  },
  {
   "cell_type": "markdown",
   "id": "9c51a866-ed92-4d1d-83ee-26d1d066f8f7",
   "metadata": {},
   "source": [
    "## Spearman rank correlation coefficient\n",
    "\n",
    "Now, we can use the above-introduced Pearson correlation coefficient - but on the ranked data! This concept is also commonly known as the [Spearman correlation coefficient](https://en.wikipedia.org/wiki/Spearman%27s_rank_correlation_coefficient).\n",
    "\n",
    "### Exercise\n",
    "Calculate the rank correlation coefficient on the ranked data. Use either your above-introduced correlation coefficient calculation or the [respective function](https://docs.scipy.org/doc/scipy/reference/generated/scipy.stats.mstats.spearmanr.html) from scipy.stats"
   ]
  },
  {
   "cell_type": "code",
   "execution_count": null,
   "id": "39152e93-56e4-48df-ba73-78aebcd6f3dc",
   "metadata": {},
   "outputs": [],
   "source": []
  },
  {
   "cell_type": "markdown",
   "id": "dd08dbbc-7f59-457c-a4f1-e53ccb9e16fc",
   "metadata": {},
   "source": [
    "## Pearson vs. Spearman\n",
    "\n",
    "Let's compare both for a few scenarios to highlight their differences. Plot the raw data, the ranked data for the following scenarios and calculate both correlation coefficients"
   ]
  },
  {
   "cell_type": "code",
   "execution_count": 7,
   "id": "8f1d1617-2357-48a1-980a-b3a7940ee9a7",
   "metadata": {},
   "outputs": [],
   "source": [
    "# Scenario 1\n",
    "x = np.arange(-10,10, 0.5)\n",
    "x += np.random.random(len(x))*2\n",
    "y = x**3 + np.random.random(len(x))*10"
   ]
  },
  {
   "cell_type": "code",
   "execution_count": 8,
   "id": "8b4eeba0-642b-4eae-9c9f-3ae08d626a87",
   "metadata": {},
   "outputs": [],
   "source": [
    "# Scenario 2\n",
    "x = np.arange(-10,10, 0.5)\n",
    "y = np.tanh(x) + np.random.random(len(x))"
   ]
  },
  {
   "cell_type": "code",
   "execution_count": 9,
   "id": "62a122e7-f2e9-47b1-b626-2356da8aba8d",
   "metadata": {},
   "outputs": [],
   "source": [
    "# Scenario 3\n",
    "x = np.arange(-10,10, 0.5)\n",
    "x += np.random.random(len(x))*2\n",
    "y = -x**3 + np.random.random(len(x))*10"
   ]
  }
 ],
 "metadata": {
  "kernelspec": {
   "display_name": "Python 3 (ipykernel)",
   "language": "python",
   "name": "python3"
  },
  "language_info": {
   "codemirror_mode": {
    "name": "ipython",
    "version": 3
   },
   "file_extension": ".py",
   "mimetype": "text/x-python",
   "name": "python",
   "nbconvert_exporter": "python",
   "pygments_lexer": "ipython3",
   "version": "3.9.13"
  }
 },
 "nbformat": 4,
 "nbformat_minor": 5
}
