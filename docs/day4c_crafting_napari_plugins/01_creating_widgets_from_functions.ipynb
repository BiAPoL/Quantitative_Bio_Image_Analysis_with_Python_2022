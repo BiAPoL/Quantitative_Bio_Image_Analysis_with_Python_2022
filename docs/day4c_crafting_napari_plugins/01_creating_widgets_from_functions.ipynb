{
 "cells": [
  {
   "cell_type": "code",
   "execution_count": null,
   "id": "d1572135-484a-42b4-873a-ddb9d8167e97",
   "metadata": {},
   "outputs": [],
   "source": []
  },
  {
   "cell_type": "code",
   "execution_count": 9,
   "id": "c78ad29c-4cd4-445d-a3b0-87dfa63f5b3f",
   "metadata": {},
   "outputs": [],
   "source": [
    "from skimage.io import imread\n",
    "from magicgui import magicgui, type_map\n",
    "import napari\n",
    "from napari.utils import nbscreenshot\n",
    "\n",
    "from my_module import preprocess_image, segment_image, subtract_bg_and_denoise, extract_features\n",
    "from napari.types import ImageData, LabelsData, LayerDataTuple"
   ]
  },
  {
   "cell_type": "code",
   "execution_count": 2,
   "id": "61c8e59f-7e29-4647-9512-85e4109f015b",
   "metadata": {},
   "outputs": [],
   "source": [
    "image = imread(\"../../data/blobs.tif\")"
   ]
  },
  {
   "cell_type": "code",
   "execution_count": 3,
   "id": "8563214e-156c-43db-bbba-e28d0f99460c",
   "metadata": {},
   "outputs": [
    {
     "name": "stderr",
     "output_type": "stream",
     "text": [
      "INFO:xmlschema:Resource 'XMLSchema.xsd' is already loaded\n"
     ]
    },
    {
     "data": {
      "text/plain": [
       "<Image layer 'image' at 0x2940da25d30>"
      ]
     },
     "execution_count": 3,
     "metadata": {},
     "output_type": "execute_result"
    }
   ],
   "source": [
    "viewer = napari.Viewer()\n",
    "viewer.add_image(image)"
   ]
  },
  {
   "cell_type": "code",
   "execution_count": 4,
   "id": "dcdad966-3e3f-497f-8cfb-cd2666e7dab6",
   "metadata": {},
   "outputs": [],
   "source": [
    "preprocess_widget = magicgui(preprocess_image)"
   ]
  },
  {
   "cell_type": "code",
   "execution_count": 5,
   "id": "e3c36c9e-79ed-46e1-a142-d52729bb11b7",
   "metadata": {},
   "outputs": [
    {
     "data": {
      "text/plain": [
       "<napari._qt.widgets.qt_viewer_dock_widget.QtViewerDockWidget at 0x2942bf6c550>"
      ]
     },
     "execution_count": 5,
     "metadata": {},
     "output_type": "execute_result"
    }
   ],
   "source": [
    "viewer.window.add_dock_widget(preprocess_widget)"
   ]
  },
  {
   "cell_type": "code",
   "execution_count": 6,
   "id": "68db7493-c6cf-47fa-844f-fa83818b7de0",
   "metadata": {},
   "outputs": [
    {
     "data": {
      "text/plain": [
       "<napari._qt.widgets.qt_viewer_dock_widget.QtViewerDockWidget at 0x2942bf730d0>"
      ]
     },
     "execution_count": 6,
     "metadata": {},
     "output_type": "execute_result"
    }
   ],
   "source": [
    "segment_widget = magicgui(segment_image)\n",
    "viewer.window.add_dock_widget(segment_widget)"
   ]
  },
  {
   "cell_type": "code",
   "execution_count": 7,
   "id": "4ff36d8f-efd3-441c-86bf-653d8b0c0d3c",
   "metadata": {},
   "outputs": [
    {
     "data": {
      "text/plain": [
       "<napari._qt.widgets.qt_viewer_dock_widget.QtViewerDockWidget at 0x2940da1d940>"
      ]
     },
     "execution_count": 7,
     "metadata": {},
     "output_type": "execute_result"
    }
   ],
   "source": [
    "subtract_bg_and_denoise_widget = magicgui(subtract_bg_and_denoise)\n",
    "viewer.window.add_dock_widget(subtract_bg_and_denoise_widget)"
   ]
  },
  {
   "cell_type": "code",
   "execution_count": 10,
   "id": "29a62828-31ba-4fa3-94e9-7bac7ce51d71",
   "metadata": {},
   "outputs": [
    {
     "data": {
      "text/plain": [
       "<napari._qt.widgets.qt_viewer_dock_widget.QtViewerDockWidget at 0x2942bfc3790>"
      ]
     },
     "execution_count": 10,
     "metadata": {},
     "output_type": "execute_result"
    }
   ],
   "source": [
    "extract_features_widget = magicgui(extract_features)\n",
    "viewer.window.add_dock_widget(extract_features_widget)"
   ]
  },
  {
   "cell_type": "code",
   "execution_count": null,
   "id": "1af066d4-d16e-4432-a69c-73a13770d177",
   "metadata": {},
   "outputs": [],
   "source": []
  }
 ],
 "metadata": {
  "kernelspec": {
   "display_name": "Python 3 (ipykernel)",
   "language": "python",
   "name": "python3"
  },
  "language_info": {
   "codemirror_mode": {
    "name": "ipython",
    "version": 3
   },
   "file_extension": ".py",
   "mimetype": "text/x-python",
   "name": "python",
   "nbconvert_exporter": "python",
   "pygments_lexer": "ipython3",
   "version": "3.9.13"
  },
  "widgets": {
   "application/vnd.jupyter.widget-state+json": {
    "state": {},
    "version_major": 2,
    "version_minor": 0
   }
  }
 },
 "nbformat": 4,
 "nbformat_minor": 5
}
