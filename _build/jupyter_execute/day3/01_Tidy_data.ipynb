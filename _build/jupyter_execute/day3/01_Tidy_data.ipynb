{
 "cells": [
  {
   "cell_type": "markdown",
   "id": "9021567d-e4ad-4b5d-84ba-6a136ea1abdb",
   "metadata": {},
   "source": [
    "# Tidy-Data"
   ]
  },
  {
   "cell_type": "markdown",
   "id": "654b1030-33ca-4322-9178-7d481ad778e8",
   "metadata": {},
   "source": [
    "Ideas:\n",
    "- each line os a table should correspond to a single object\n",
    "- Dealing with missing data\n",
    "- Split-apply-combine"
   ]
  },
  {
   "cell_type": "markdown",
   "id": "7ca6e4b5-dd7b-4bed-ad37-f2325c7dd2a0",
   "metadata": {},
   "source": [
    "Useful links:\n",
    "- Missing data: https://pandas.pydata.org/docs/user_guide/missing_data.html\n",
    "- Tidy-data and Split-apply-combine: https://justinbois.github.io/dd-pol/2022/lessons/01/split_apply_combine.html\n",
    "- Split-apply-combine: https://pandas.pydata.org/docs/user_guide/groupby.html"
   ]
  },
  {
   "cell_type": "code",
   "execution_count": null,
   "id": "f2da58a0-e778-495a-b2c4-aacf44116059",
   "metadata": {},
   "outputs": [],
   "source": []
  }
 ],
 "metadata": {
  "kernelspec": {
   "display_name": "Python 3 (ipykernel)",
   "language": "python",
   "name": "python3"
  },
  "language_info": {
   "codemirror_mode": {
    "name": "ipython",
    "version": 3
   },
   "file_extension": ".py",
   "mimetype": "text/x-python",
   "name": "python",
   "nbconvert_exporter": "python",
   "pygments_lexer": "ipython3",
   "version": "3.9.13"
  }
 },
 "nbformat": 4,
 "nbformat_minor": 5
}