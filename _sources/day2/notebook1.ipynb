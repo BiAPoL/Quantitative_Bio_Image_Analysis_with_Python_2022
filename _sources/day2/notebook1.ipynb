{
 "cells": [
  {
   "cell_type": "markdown",
   "id": "5824e878-a065-4771-a764-145b610e21f3",
   "metadata": {},
   "source": [
    "# Napari"
   ]
  },
  {
   "cell_type": "code",
   "execution_count": null,
   "id": "7c19f6c9-6987-4738-a14f-f3d1d8c831f1",
   "metadata": {},
   "outputs": [],
   "source": [
    "import napari"
   ]
  }
 ],
 "metadata": {
  "kernelspec": {
   "display_name": "Python 3 (ipykernel)",
   "language": "python",
   "name": "python3"
  },
  "language_info": {
   "codemirror_mode": {
    "name": "ipython",
    "version": 3
   },
   "file_extension": ".py",
   "mimetype": "text/x-python",
   "name": "python",
   "nbconvert_exporter": "python",
   "pygments_lexer": "ipython3",
   "version": "3.9.13"
  }
 },
 "nbformat": 4,
 "nbformat_minor": 5
}
