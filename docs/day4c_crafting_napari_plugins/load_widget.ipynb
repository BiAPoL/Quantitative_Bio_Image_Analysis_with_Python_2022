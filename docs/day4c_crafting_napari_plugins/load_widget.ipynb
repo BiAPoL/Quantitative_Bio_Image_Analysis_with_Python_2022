{
 "cells": [
  {
   "cell_type": "code",
   "execution_count": null,
   "id": "bb686487-9472-48b3-92cf-68fadbd567a8",
   "metadata": {},
   "outputs": [],
   "source": [
    "\n",
    "\n"
   ]
  },
  {
   "cell_type": "code",
   "execution_count": 1,
   "id": "c78ad29c-4cd4-445d-a3b0-87dfa63f5b3f",
   "metadata": {},
   "outputs": [],
   "source": [
    "from skimage.io import imread\n",
    "from magicgui import magicgui, type_map\n",
    "import napari\n",
    "from napari.utils import nbscreenshot\n",
    "\n",
    "from my_module import preprocess_image, segment_image, subtract_bg_and_denoise, segment_image_with_features"
   ]
  },
  {
   "cell_type": "code",
   "execution_count": 2,
   "id": "61c8e59f-7e29-4647-9512-85e4109f015b",
   "metadata": {},
   "outputs": [],
   "source": [
    "image = imread(\"../../data/blobs.tif\")"
   ]
  },
  {
   "cell_type": "code",
   "execution_count": 3,
   "id": "8563214e-156c-43db-bbba-e28d0f99460c",
   "metadata": {},
   "outputs": [
    {
     "name": "stderr",
     "output_type": "stream",
     "text": [
      "INFO:xmlschema:Resource 'XMLSchema.xsd' is already loaded\n"
     ]
    },
    {
     "data": {
      "text/plain": [
       "<Image layer 'image' at 0x28c9ed4e820>"
      ]
     },
     "execution_count": 3,
     "metadata": {},
     "output_type": "execute_result"
    }
   ],
   "source": [
    "viewer = napari.Viewer()\n",
    "viewer.add_image(image)"
   ]
  },
  {
   "cell_type": "code",
   "execution_count": 4,
   "id": "dcdad966-3e3f-497f-8cfb-cd2666e7dab6",
   "metadata": {},
   "outputs": [],
   "source": [
    "preprocess_widget = magicgui(preprocess_image)"
   ]
  },
  {
   "cell_type": "code",
   "execution_count": 5,
   "id": "e3c36c9e-79ed-46e1-a142-d52729bb11b7",
   "metadata": {},
   "outputs": [],
   "source": [
    "# viewer.window.add_dock_widget(preprocess_widget)"
   ]
  },
  {
   "cell_type": "code",
   "execution_count": 6,
   "id": "a22ce872-ef2f-497d-a302-62e4d79aed44",
   "metadata": {},
   "outputs": [],
   "source": [
    "segment_widget = magicgui(segment_image)\n",
    "subtract_bg_and_denoise_widget = magicgui(subtract_bg_and_denoise)\n",
    "segment_with_features_widget = magicgui(segment_image_with_features)"
   ]
  },
  {
   "cell_type": "code",
   "execution_count": 7,
   "id": "26709115-d028-46f9-92d7-d2e1046916f6",
   "metadata": {},
   "outputs": [
    {
     "data": {
      "text/plain": [
       "<napari._qt.widgets.qt_viewer_dock_widget.QtViewerDockWidget at 0x28cf5ee15e0>"
      ]
     },
     "execution_count": 7,
     "metadata": {},
     "output_type": "execute_result"
    }
   ],
   "source": [
    "# viewer.window.add_dock_widget(segment_widget)\n",
    "# viewer.window.add_dock_widget(subtract_bg_and_denoise_widget)\n",
    "viewer.window.add_dock_widget(segment_with_features_widget)"
   ]
  },
  {
   "cell_type": "code",
   "execution_count": 8,
   "id": "020a7534-dc90-4072-a5a9-a315978e923d",
   "metadata": {},
   "outputs": [],
   "source": [
    "a = ['area', 'intensity']"
   ]
  },
  {
   "cell_type": "code",
   "execution_count": 9,
   "id": "69e5a224-ed5b-49ff-a70c-6af3337b07f2",
   "metadata": {},
   "outputs": [
    {
     "data": {
      "text/plain": [
       "(magicgui.widgets.ListEdit, {'nullable': False})"
      ]
     },
     "execution_count": 9,
     "metadata": {},
     "output_type": "execute_result"
    }
   ],
   "source": [
    "type_map.get_widget_class(a)"
   ]
  },
  {
   "cell_type": "code",
   "execution_count": 11,
   "id": "7718b0af-b4b5-4eaa-935a-8cc65e6f95e9",
   "metadata": {},
   "outputs": [
    {
     "name": "stdout",
     "output_type": "stream",
     "text": [
      "The widget for <class 'bool'> is 'CheckBox'\n",
      "The widget for <class 'int'> is 'SpinBox'\n",
      "The widget for <class 'float'> is 'FloatSpinBox'\n",
      "The widget for <class 'str'> is 'LineEdit'\n",
      "The widget for <class 'pathlib.WindowsPath'> is 'FileEdit'\n",
      "The widget for <class 'datetime.datetime'> is 'DateTimeEdit'\n",
      "The widget for <class 'datetime.time'> is 'TimeEdit'\n",
      "The widget for <class 'datetime.date'> is 'DateEdit'\n",
      "The widget for <enum 'Animal'> is 'ComboBox'\n",
      "The widget for <class 'range'> is 'RangeEdit'\n",
      "The widget for <class 'slice'> is 'SliceEdit'\n",
      "The widget for <class 'function'> is 'FunctionGui'\n",
      "The widget for <class 'list'> is 'ListEdit'\n"
     ]
    }
   ],
   "source": [
    "import datetime\n",
    "from enum import Enum\n",
    "from pathlib import Path\n",
    "from magicgui.type_map import get_widget_class\n",
    "\n",
    "Animal = Enum('Animal', 'ANT BEE CAT DOG')\n",
    "values = [\n",
    "    True, 1, 3.43, 'text', Path.home(),\n",
    "    datetime.datetime.now(), datetime.time(12, 30),\n",
    "    datetime.date(2000, 2, 18),\n",
    "    Animal.ANT, range(10), slice(1,20), lambda x: x, a\n",
    "]\n",
    "for v in values:\n",
    "    cls, options = get_widget_class(v)\n",
    "    print(f\"The widget for {type(v)} is {cls.__name__!r}\")"
   ]
  },
  {
   "cell_type": "code",
   "execution_count": null,
   "id": "e645a7c3-9fe9-4ac6-8039-60dce98d99e1",
   "metadata": {},
   "outputs": [],
   "source": []
  },
  {
   "cell_type": "code",
   "execution_count": null,
   "id": "c404a562-e0df-4ed6-a519-30a847cc21e4",
   "metadata": {},
   "outputs": [],
   "source": []
  }
 ],
 "metadata": {
  "kernelspec": {
   "display_name": "Python 3 (ipykernel)",
   "language": "python",
   "name": "python3"
  },
  "language_info": {
   "codemirror_mode": {
    "name": "ipython",
    "version": 3
   },
   "file_extension": ".py",
   "mimetype": "text/x-python",
   "name": "python",
   "nbconvert_exporter": "python",
   "pygments_lexer": "ipython3",
   "version": "3.9.13"
  },
  "widgets": {
   "application/vnd.jupyter.widget-state+json": {
    "state": {},
    "version_major": 2,
    "version_minor": 0
   }
  }
 },
 "nbformat": 4,
 "nbformat_minor": 5
}
