{
 "cells": [
  {
   "cell_type": "markdown",
   "id": "12032af8-547f-486b-baab-d9f3f46cf957",
   "metadata": {},
   "source": [
    "# Supervised machine learning\n",
    "Supervised machine learning is a technique for configuring (learning) parameters of a computational model based on annotated data. In this example, we provide sparsely annotated data, which means we only annotate some of the given data points.\n",
    "\n",
    "See also\n",
    "* [Supervised learning (Wikipedia)](https://en.wikipedia.org/wiki/Supervised_learning)\n",
    "* [Supervised learning in scikit-learn](https://scikit-learn.org/stable/supervised_learning.html)"
   ]
  },
  {
   "cell_type": "code",
   "execution_count": 1,
   "id": "825d6705-cf79-4b52-acc6-da93d6e2d96c",
   "metadata": {},
   "outputs": [],
   "source": [
    "import matplotlib.pyplot as plt\n",
    "import pandas as pd\n",
    "from sklearn.ensemble import RandomForestClassifier\n",
    "from sklearn.metrics import jaccard_score, accuracy_score, precision_score, recall_score\n",
    "\n",
    "# local import; this library is located in the same folder as the notebook\n",
    "from data_generator import generate_biomodal_2d_data"
   ]
  },
  {
   "cell_type": "markdown",
   "id": "5292a204-9e34-47dd-8fac-f7db68cd4bc6",
   "metadata": {},
   "source": [
    "Our starting point for demonstrating supervised machine learning is a a pair of measurements in a bimodal distribution. In the following data set objects with a larger area are typically also more elongated."
   ]
  },
  {
   "cell_type": "code",
   "execution_count": 2,
   "id": "8e3707f7-77be-4a26-811d-3e6bdd47018e",
   "metadata": {},
   "outputs": [
    {
     "data": {
      "text/plain": [
       "Text(0, 0.5, 'elongation')"
      ]
     },
     "execution_count": 2,
     "metadata": {},
     "output_type": "execute_result"
    },
    {
     "data": {
      "image/png": "[encoded data removed]",
      "text/plain": [
       "<Figure size 432x288 with 1 Axes>"
      ]
     },
     "metadata": {
      "needs_background": "light"
     },
     "output_type": "display_data"
    }
   ],
   "source": [
    "data = generate_biomodal_2d_data()\n",
    "\n",
    "plt.scatter(data[:, 0], data[:, 1], c='#DDDDDD')\n",
    "plt.xlabel('area')\n",
    "plt.ylabel('elongation')"
   ]
  },
  {
   "cell_type": "markdown",
   "id": "ad993994-7a52-4d58-8873-6c095debe66e",
   "metadata": {},
   "source": [
    "To get a more detailed insight into the data, we print out the first entries."
   ]
  },
  {
   "cell_type": "code",
   "execution_count": 3,
   "id": "7d78f58d-7c5b-452a-b545-8b3e791f9c5a",
   "metadata": {},
   "outputs": [
    {
     "data": {
      "text/html": [
       "<div>\n",
       "<style scoped>\n",
       "    .dataframe tbody tr th:only-of-type {\n",
       "        vertical-align: middle;\n",
       "    }\n",
       "\n",
       "    .dataframe tbody tr th {\n",
       "        vertical-align: top;\n",
       "    }\n",
       "\n",
       "    .dataframe thead th {\n",
       "        text-align: right;\n",
       "    }\n",
       "</style>\n",
       "<table border=\"1\" class=\"dataframe\">\n",
       "  <thead>\n",
       "    <tr style=\"text-align: right;\">\n",
       "      <th></th>\n",
       "      <th>area</th>\n",
       "      <th>elongation</th>\n",
       "    </tr>\n",
       "  </thead>\n",
       "  <tbody>\n",
       "    <tr>\n",
       "      <th>0</th>\n",
       "      <td>3.950088</td>\n",
       "      <td>2.848643</td>\n",
       "    </tr>\n",
       "    <tr>\n",
       "      <th>1</th>\n",
       "      <td>4.955912</td>\n",
       "      <td>3.390093</td>\n",
       "    </tr>\n",
       "    <tr>\n",
       "      <th>2</th>\n",
       "      <td>7.469852</td>\n",
       "      <td>5.575289</td>\n",
       "    </tr>\n",
       "    <tr>\n",
       "      <th>3</th>\n",
       "      <td>2.544467</td>\n",
       "      <td>3.017479</td>\n",
       "    </tr>\n",
       "    <tr>\n",
       "      <th>4</th>\n",
       "      <td>3.465662</td>\n",
       "      <td>1.463756</td>\n",
       "    </tr>\n",
       "    <tr>\n",
       "      <th>5</th>\n",
       "      <td>3.156507</td>\n",
       "      <td>3.232181</td>\n",
       "    </tr>\n",
       "    <tr>\n",
       "      <th>6</th>\n",
       "      <td>9.978705</td>\n",
       "      <td>6.676372</td>\n",
       "    </tr>\n",
       "    <tr>\n",
       "      <th>7</th>\n",
       "      <td>6.001683</td>\n",
       "      <td>5.047063</td>\n",
       "    </tr>\n",
       "    <tr>\n",
       "      <th>8</th>\n",
       "      <td>2.457139</td>\n",
       "      <td>3.416050</td>\n",
       "    </tr>\n",
       "    <tr>\n",
       "      <th>9</th>\n",
       "      <td>3.672295</td>\n",
       "      <td>3.407462</td>\n",
       "    </tr>\n",
       "    <tr>\n",
       "      <th>10</th>\n",
       "      <td>9.413702</td>\n",
       "      <td>7.598608</td>\n",
       "    </tr>\n",
       "    <tr>\n",
       "      <th>11</th>\n",
       "      <td>2.896781</td>\n",
       "      <td>3.410599</td>\n",
       "    </tr>\n",
       "    <tr>\n",
       "      <th>12</th>\n",
       "      <td>2.305432</td>\n",
       "      <td>2.850365</td>\n",
       "    </tr>\n",
       "    <tr>\n",
       "      <th>13</th>\n",
       "      <td>4.640594</td>\n",
       "      <td>8.602249</td>\n",
       "    </tr>\n",
       "    <tr>\n",
       "      <th>14</th>\n",
       "      <td>3.523277</td>\n",
       "      <td>2.828454</td>\n",
       "    </tr>\n",
       "    <tr>\n",
       "      <th>15</th>\n",
       "      <td>7.636970</td>\n",
       "      <td>10.277392</td>\n",
       "    </tr>\n",
       "    <tr>\n",
       "      <th>16</th>\n",
       "      <td>7.223721</td>\n",
       "      <td>6.531755</td>\n",
       "    </tr>\n",
       "    <tr>\n",
       "      <th>17</th>\n",
       "      <td>7.146032</td>\n",
       "      <td>8.404857</td>\n",
       "    </tr>\n",
       "    <tr>\n",
       "      <th>18</th>\n",
       "      <td>7.407157</td>\n",
       "      <td>6.260869</td>\n",
       "    </tr>\n",
       "    <tr>\n",
       "      <th>19</th>\n",
       "      <td>6.543343</td>\n",
       "      <td>8.472226</td>\n",
       "    </tr>\n",
       "  </tbody>\n",
       "</table>\n",
       "</div>"
      ],
      "text/plain": [
       "        area  elongation\n",
       "0   3.950088    2.848643\n",
       "1   4.955912    3.390093\n",
       "2   7.469852    5.575289\n",
       "3   2.544467    3.017479\n",
       "4   3.465662    1.463756\n",
       "5   3.156507    3.232181\n",
       "6   9.978705    6.676372\n",
       "7   6.001683    5.047063\n",
       "8   2.457139    3.416050\n",
       "9   3.672295    3.407462\n",
       "10  9.413702    7.598608\n",
       "11  2.896781    3.410599\n",
       "12  2.305432    2.850365\n",
       "13  4.640594    8.602249\n",
       "14  3.523277    2.828454\n",
       "15  7.636970   10.277392\n",
       "16  7.223721    6.531755\n",
       "17  7.146032    8.404857\n",
       "18  7.407157    6.260869\n",
       "19  6.543343    8.472226"
      ]
     },
     "execution_count": 3,
     "metadata": {},
     "output_type": "execute_result"
    }
   ],
   "source": [
    "data_to_annotate = data[:20]\n",
    "\n",
    "pd.DataFrame(data_to_annotate, columns=[\"area\", \"elongation\"])"
   ]
  },
  {
   "cell_type": "markdown",
   "id": "9d40342e-61c9-417f-9f58-a46d3d707941",
   "metadata": {},
   "source": [
    "## Annotating data\n",
    "As mentioned above, supervised machine learning algorithms need some form of annotation, also called _ground truth_. We create a list of annotations where `1` represents small objects and `2` represents large and elongated objects.\n",
    "\n",
    "Note: We are here annotating the first 20 data points, which is a quite small number. In real projects, larger amounts of annotation data might be necessary to train well-performing classifiers."
   ]
  },
  {
   "cell_type": "code",
   "execution_count": 4,
   "id": "c00f573a-4e99-4031-acef-13a0bb56f4b3",
   "metadata": {},
   "outputs": [],
   "source": [
    "manual_annotation = [1, 1, 2, 1, 1, 1, 2, 2, 1, 1, 2, 1, 1, 2, 1, 2, 2, 2, 2, 2]"
   ]
  },
  {
   "cell_type": "markdown",
   "id": "c27e566a-70da-4a6e-a3ef-c83e903c8868",
   "metadata": {},
   "source": [
    "Now, we visualize the measurements again and draw the annotated measurements on top."
   ]
  },
  {
   "cell_type": "code",
   "execution_count": 5,
   "id": "8c66f554-231b-40ab-a9b2-d5bdc815c0f5",
   "metadata": {},
   "outputs": [
    {
     "data": {
      "text/plain": [
       "<matplotlib.collections.PathCollection at 0x297f1089430>"
      ]
     },
     "execution_count": 5,
     "metadata": {},
     "output_type": "execute_result"
    },
    {
     "data": {
      "image/png": "[encoded data removed]",
      "text/plain": [
       "<Figure size 432x288 with 1 Axes>"
      ]
     },
     "metadata": {
      "needs_background": "light"
     },
     "output_type": "display_data"
    }
   ],
   "source": [
    "plt.scatter(data[:, 0], data[:, 1], c='#DDDDDD')\n",
    "plt.xlabel('area')\n",
    "plt.ylabel('elongation')\n",
    "\n",
    "colors = ['orange', 'blue']\n",
    "annotated_colors = [colors[i-1] for i in manual_annotation]\n",
    "\n",
    "plt.scatter(data_to_annotate[:, 0], data_to_annotate[:, 1], c=annotated_colors)"
   ]
  },
  {
   "cell_type": "markdown",
   "id": "e7f82812-4bac-4984-b90e-a646718a6adb",
   "metadata": {},
   "source": [
    "## Separating test and validation data\n",
    "Before we train our classifier, we need to split the annotated data into two subsets. Goal is to enable unbiased validation. We train on the first half of the annotated data points and measure the quality on the second half. [Read more](https://scikit-learn.org/stable/common_pitfalls.html#data-leakage)."
   ]
  },
  {
   "cell_type": "code",
   "execution_count": 6,
   "id": "2fcb456d-90c9-4cc2-90c6-9c69a43e72bb",
   "metadata": {},
   "outputs": [],
   "source": [
    "train_data = data_to_annotate[:10]\n",
    "validation_data = data_to_annotate[10:]\n",
    "\n",
    "train_annotation = manual_annotation[:10]\n",
    "validation_annotation = manual_annotation[10:]"
   ]
  },
  {
   "cell_type": "markdown",
   "id": "22c17985-c857-4170-84ce-66e96f8e4971",
   "metadata": {},
   "source": [
    "## Classifier training\n",
    "With the selected data to annotate and the manual annotation, we can train a [Random Forest Classifier](https://en.wikipedia.org/wiki/Random_forest)."
   ]
  },
  {
   "cell_type": "code",
   "execution_count": 7,
   "id": "ec60e60e-bc9e-4e46-84a3-90366cf45c99",
   "metadata": {},
   "outputs": [
    {
     "data": {
      "text/html": [
       "<style>#sk-container-id-1 {color: black;background-color: white;}#sk-container-id-1 pre{padding: 0;}#sk-container-id-1 div.sk-toggleable {background-color: white;}#sk-container-id-1 label.sk-toggleable__label {cursor: pointer;display: block;width: 100%;margin-bottom: 0;padding: 0.3em;box-sizing: border-box;text-align: center;}#sk-container-id-1 label.sk-toggleable__label-arrow:before {content: \"▸\";float: left;margin-right: 0.25em;color: #696969;}#sk-container-id-1 label.sk-toggleable__label-arrow:hover:before {color: black;}#sk-container-id-1 div.sk-estimator:hover label.sk-toggleable__label-arrow:before {color: black;}#sk-container-id-1 div.sk-toggleable__content {max-height: 0;max-width: 0;overflow: hidden;text-align: left;background-color: #f0f8ff;}#sk-container-id-1 div.sk-toggleable__content pre {margin: 0.2em;color: black;border-radius: 0.25em;background-color: #f0f8ff;}#sk-container-id-1 input.sk-toggleable__control:checked~div.sk-toggleable__content {max-height: 200px;max-width: 100%;overflow: auto;}#sk-container-id-1 input.sk-toggleable__control:checked~label.sk-toggleable__label-arrow:before {content: \"▾\";}#sk-container-id-1 div.sk-estimator input.sk-toggleable__control:checked~label.sk-toggleable__label {background-color: #d4ebff;}#sk-container-id-1 div.sk-label input.sk-toggleable__control:checked~label.sk-toggleable__label {background-color: #d4ebff;}#sk-container-id-1 input.sk-hidden--visually {border: 0;clip: rect(1px 1px 1px 1px);clip: rect(1px, 1px, 1px, 1px);height: 1px;margin: -1px;overflow: hidden;padding: 0;position: absolute;width: 1px;}#sk-container-id-1 div.sk-estimator {font-family: monospace;background-color: #f0f8ff;border: 1px dotted black;border-radius: 0.25em;box-sizing: border-box;margin-bottom: 0.5em;}#sk-container-id-1 div.sk-estimator:hover {background-color: #d4ebff;}#sk-container-id-1 div.sk-parallel-item::after {content: \"\";width: 100%;border-bottom: 1px solid gray;flex-grow: 1;}#sk-container-id-1 div.sk-label:hover label.sk-toggleable__label {background-color: #d4ebff;}#sk-container-id-1 div.sk-serial::before {content: \"\";position: absolute;border-left: 1px solid gray;box-sizing: border-box;top: 0;bottom: 0;left: 50%;z-index: 0;}#sk-container-id-1 div.sk-serial {display: flex;flex-direction: column;align-items: center;background-color: white;padding-right: 0.2em;padding-left: 0.2em;position: relative;}#sk-container-id-1 div.sk-item {position: relative;z-index: 1;}#sk-container-id-1 div.sk-parallel {display: flex;align-items: stretch;justify-content: center;background-color: white;position: relative;}#sk-container-id-1 div.sk-item::before, #sk-container-id-1 div.sk-parallel-item::before {content: \"\";position: absolute;border-left: 1px solid gray;box-sizing: border-box;top: 0;bottom: 0;left: 50%;z-index: -1;}#sk-container-id-1 div.sk-parallel-item {display: flex;flex-direction: column;z-index: 1;position: relative;background-color: white;}#sk-container-id-1 div.sk-parallel-item:first-child::after {align-self: flex-end;width: 50%;}#sk-container-id-1 div.sk-parallel-item:last-child::after {align-self: flex-start;width: 50%;}#sk-container-id-1 div.sk-parallel-item:only-child::after {width: 0;}#sk-container-id-1 div.sk-dashed-wrapped {border: 1px dashed gray;margin: 0 0.4em 0.5em 0.4em;box-sizing: border-box;padding-bottom: 0.4em;background-color: white;}#sk-container-id-1 div.sk-label label {font-family: monospace;font-weight: bold;display: inline-block;line-height: 1.2em;}#sk-container-id-1 div.sk-label-container {text-align: center;}#sk-container-id-1 div.sk-container {/* jupyter's `normalize.less` sets `[hidden] { display: none; }` but bootstrap.min.css set `[hidden] { display: none !important; }` so we also need the `!important` here to be able to override the default hidden behavior on the sphinx rendered scikit-learn.org. See: https://github.com/scikit-learn/scikit-learn/issues/21755 */display: inline-block !important;position: relative;}#sk-container-id-1 div.sk-text-repr-fallback {display: none;}</style><div id=\"sk-container-id-1\" class=\"sk-top-container\"><div class=\"sk-text-repr-fallback\"><pre>RandomForestClassifier()</pre><b>In a Jupyter environment, please rerun this cell to show the HTML representation or trust the notebook. <br />On GitHub, the HTML representation is unable to render, please try loading this page with nbviewer.org.</b></div><div class=\"sk-container\" hidden><div class=\"sk-item\"><div class=\"sk-estimator sk-toggleable\"><input class=\"sk-toggleable__control sk-hidden--visually\" id=\"sk-estimator-id-1\" type=\"checkbox\" checked><label for=\"sk-estimator-id-1\" class=\"sk-toggleable__label sk-toggleable__label-arrow\">RandomForestClassifier</label><div class=\"sk-toggleable__content\"><pre>RandomForestClassifier()</pre></div></div></div></div></div>"
      ],
      "text/plain": [
       "RandomForestClassifier()"
      ]
     },
     "execution_count": 7,
     "metadata": {},
     "output_type": "execute_result"
    }
   ],
   "source": [
    "classifier = RandomForestClassifier()\n",
    "classifier.fit(train_data, train_annotation)"
   ]
  },
  {
   "cell_type": "markdown",
   "id": "ec31464b-c5c8-49fa-80a9-d5721b50a136",
   "metadata": {},
   "source": [
    "## Validation\n",
    "We can now apply the classifier to the validation data and measure how many of these data points have been analyzed correctly."
   ]
  },
  {
   "cell_type": "code",
   "execution_count": 8,
   "id": "01002155-5344-446d-a6bb-79fdf6aba05b",
   "metadata": {},
   "outputs": [
    {
     "data": {
      "text/html": [
       "<div>\n",
       "<style scoped>\n",
       "    .dataframe tbody tr th:only-of-type {\n",
       "        vertical-align: middle;\n",
       "    }\n",
       "\n",
       "    .dataframe tbody tr th {\n",
       "        vertical-align: top;\n",
       "    }\n",
       "\n",
       "    .dataframe thead th {\n",
       "        text-align: right;\n",
       "    }\n",
       "</style>\n",
       "<table border=\"1\" class=\"dataframe\">\n",
       "  <thead>\n",
       "    <tr style=\"text-align: right;\">\n",
       "      <th></th>\n",
       "      <th>Predicted</th>\n",
       "      <th>Annotated</th>\n",
       "    </tr>\n",
       "  </thead>\n",
       "  <tbody>\n",
       "    <tr>\n",
       "      <th>0</th>\n",
       "      <td>2</td>\n",
       "      <td>2</td>\n",
       "    </tr>\n",
       "    <tr>\n",
       "      <th>1</th>\n",
       "      <td>1</td>\n",
       "      <td>1</td>\n",
       "    </tr>\n",
       "    <tr>\n",
       "      <th>2</th>\n",
       "      <td>1</td>\n",
       "      <td>1</td>\n",
       "    </tr>\n",
       "    <tr>\n",
       "      <th>3</th>\n",
       "      <td>1</td>\n",
       "      <td>2</td>\n",
       "    </tr>\n",
       "    <tr>\n",
       "      <th>4</th>\n",
       "      <td>1</td>\n",
       "      <td>1</td>\n",
       "    </tr>\n",
       "    <tr>\n",
       "      <th>5</th>\n",
       "      <td>2</td>\n",
       "      <td>2</td>\n",
       "    </tr>\n",
       "    <tr>\n",
       "      <th>6</th>\n",
       "      <td>2</td>\n",
       "      <td>2</td>\n",
       "    </tr>\n",
       "    <tr>\n",
       "      <th>7</th>\n",
       "      <td>2</td>\n",
       "      <td>2</td>\n",
       "    </tr>\n",
       "    <tr>\n",
       "      <th>8</th>\n",
       "      <td>2</td>\n",
       "      <td>2</td>\n",
       "    </tr>\n",
       "    <tr>\n",
       "      <th>9</th>\n",
       "      <td>2</td>\n",
       "      <td>2</td>\n",
       "    </tr>\n",
       "  </tbody>\n",
       "</table>\n",
       "</div>"
      ],
      "text/plain": [
       "   Predicted  Annotated\n",
       "0          2          2\n",
       "1          1          1\n",
       "2          1          1\n",
       "3          1          2\n",
       "4          1          1\n",
       "5          2          2\n",
       "6          2          2\n",
       "7          2          2\n",
       "8          2          2\n",
       "9          2          2"
      ]
     },
     "execution_count": 8,
     "metadata": {},
     "output_type": "execute_result"
    }
   ],
   "source": [
    "result = classifier.predict(validation_data)\n",
    "\n",
    "# Show results next to annotation in a table\n",
    "result_annotation_comparison_table = {\n",
    "    \"Predicted\": result,\n",
    "    \"Annotated\": validation_annotation\n",
    "}\n",
    "pd.DataFrame(result_annotation_comparison_table)"
   ]
  },
  {
   "cell_type": "markdown",
   "id": "5e98ab03-d427-4c2c-99ef-f65f8abcac16",
   "metadata": {},
   "source": [
    "To get some standardized measures of the quality of the results of our classifier, we use [scikit-learn's metrics](https://scikit-learn.org/stable/modules/model_evaluation.html). An overview about the techniques are also available on [Wikipedia](https://en.wikipedia.org/wiki/Precision_and_recall) and mean in the context here:\n",
    "* [Accurcay](https://scikit-learn.org/stable/modules/generated/sklearn.metrics.accuracy_score.html#sklearn.metrics.accuracy_score): What portion of predictions were correct?\n",
    "* [Precision](https://scikit-learn.org/stable/modules/generated/sklearn.metrics.precision_score.html#sklearn.metrics.precision_score): What portion of predicted `1`s were annotated as `1`?\n",
    "* [Recall (sensitivity)](https://scikit-learn.org/stable/modules/generated/sklearn.metrics.recall_score.html#sklearn.metrics.recall_score): What portion of predicted `2`s have been annotated as `2`?"
   ]
  },
  {
   "cell_type": "code",
   "execution_count": 9,
   "id": "e7abc020-e5ce-42b8-b8be-e6eec1c231b0",
   "metadata": {},
   "outputs": [
    {
     "data": {
      "text/plain": [
       "0.9"
      ]
     },
     "execution_count": 9,
     "metadata": {},
     "output_type": "execute_result"
    }
   ],
   "source": [
    "accuracy_score(validation_annotation, result)"
   ]
  },
  {
   "cell_type": "code",
   "execution_count": 10,
   "id": "ddca7690-99a7-4e58-b639-116a756cefb3",
   "metadata": {},
   "outputs": [
    {
     "data": {
      "text/plain": [
       "0.75"
      ]
     },
     "execution_count": 10,
     "metadata": {},
     "output_type": "execute_result"
    }
   ],
   "source": [
    "precision_score(validation_annotation, result)"
   ]
  },
  {
   "cell_type": "code",
   "execution_count": 11,
   "id": "ac81820a-1e15-4228-8709-6bbb3225799f",
   "metadata": {},
   "outputs": [
    {
     "data": {
      "text/plain": [
       "1.0"
      ]
     },
     "execution_count": 11,
     "metadata": {},
     "output_type": "execute_result"
    }
   ],
   "source": [
    "recall_score(validation_annotation, result)"
   ]
  },
  {
   "cell_type": "markdown",
   "id": "425d2693-80d7-431c-a6ca-3094048b1df7",
   "metadata": {},
   "source": [
    "If you want to understand more detailed how the enties are counted and the quality scores are computed, the [multilabel confusion matrix](https://scikit-learn.org/stable/modules/generated/sklearn.metrics.multilabel_confusion_matrix.html#sklearn.metrics.multilabel_confusion_matrix) may be worth a look."
   ]
  },
  {
   "cell_type": "markdown",
   "id": "a32230e9-6f91-4248-b47a-688fbfe29bf9",
   "metadata": {},
   "source": [
    "## Prediction\n",
    "After training and validation of the classifier, we can reuse it to process other data sets. \n",
    "It is uncommon to classify test- and validation data, as those should be used for making the classifier only. We here apply the classifier to the remaining data points, which have not been annotated."
   ]
  },
  {
   "cell_type": "code",
   "execution_count": 12,
   "id": "fa01dc06-1a8a-4f79-a6c9-de7c54087f54",
   "metadata": {},
   "outputs": [
    {
     "data": {
      "text/plain": [
       "array([1, 1, 1, 1, 2, 1, 2, 1, 2, 1, 2, 2, 1, 2, 2, 1, 1, 2, 1, 1, 1, 1,\n",
       "       2, 1, 2, 2, 2, 2, 2, 1, 1, 1, 2, 1, 2, 1, 2, 1, 2, 1, 2, 1, 1, 2,\n",
       "       2, 2, 1, 1, 1, 1, 1, 2, 1, 1, 2, 2, 2, 1, 1, 2, 2, 1, 2, 2, 2, 1,\n",
       "       1, 1, 2, 1, 2, 1, 2, 1, 2, 1, 2, 2, 1, 2, 1, 1, 2, 1, 1, 1, 1, 2,\n",
       "       1, 2, 1, 2, 2, 2, 1, 2, 2, 2, 2, 2, 2, 1, 2, 2, 1, 1, 1, 2, 2, 2,\n",
       "       1, 2, 2, 2, 1, 2, 1, 2, 2, 1, 2, 2, 1, 1, 2, 1, 1, 2, 1, 2, 1, 1,\n",
       "       1, 1, 1, 1, 2, 1, 1, 1, 1, 2, 1, 1, 1, 2, 2, 1, 1, 1, 1, 2, 2, 1,\n",
       "       1, 1, 1, 2, 2, 1, 2, 1, 1, 2, 2, 1, 1, 2, 1, 2, 1, 2, 1, 2, 2, 2,\n",
       "       1, 2, 1, 2, 1, 1, 2, 2, 2, 1, 1, 1, 2, 2, 1, 2, 1, 2, 1, 2, 1, 1,\n",
       "       2, 1, 1, 2, 1, 1, 2, 2, 2, 1, 1, 1, 2, 2, 2, 2, 2, 1, 2, 1, 1, 2,\n",
       "       2, 2, 1, 1, 2, 1, 1, 2, 1, 1, 2, 2, 1, 1, 2, 2, 1, 1, 1, 2, 2, 1,\n",
       "       1, 1, 1, 1, 2, 2, 1, 1, 1, 1, 1, 1, 2, 2, 2, 1, 1, 2, 2, 2, 1, 2,\n",
       "       1, 2, 2, 1, 2, 2, 1, 2, 2, 1, 1, 2, 1, 1, 2, 2])"
      ]
     },
     "execution_count": 12,
     "metadata": {},
     "output_type": "execute_result"
    }
   ],
   "source": [
    "remaining_data = data[20:]\n",
    "\n",
    "prediction = classifier.predict(remaining_data)\n",
    "prediction"
   ]
  },
  {
   "cell_type": "markdown",
   "id": "a2d4abcf-124f-4182-a705-e2884bb407d0",
   "metadata": {},
   "source": [
    "Here we now visualize the whole data set with class colors."
   ]
  },
  {
   "cell_type": "code",
   "execution_count": 13,
   "id": "f35dce87-89e0-4fec-ba16-020188f6bdb3",
   "metadata": {},
   "outputs": [
    {
     "data": {
      "text/plain": [
       "Text(0, 0.5, 'elongation')"
      ]
     },
     "execution_count": 13,
     "metadata": {},
     "output_type": "execute_result"
    },
    {
     "data": {
      "image/png": "[encoded data removed]",
      "text/plain": [
       "<Figure size 432x288 with 1 Axes>"
      ]
     },
     "metadata": {
      "needs_background": "light"
     },
     "output_type": "display_data"
    }
   ],
   "source": [
    "predicted_colors = [colors[i-1] for i in prediction]\n",
    "\n",
    "plt.scatter(remaining_data[:, 0], remaining_data[:, 1], c=predicted_colors)\n",
    "plt.xlabel('area')\n",
    "plt.ylabel('elongation')"
   ]
  },
  {
   "cell_type": "markdown",
   "id": "3988aaa0-90be-4101-a334-d262071bd8ca",
   "metadata": {},
   "source": [
    "## Exercise\n",
    "Train a [Support Vector Machine](https://scikit-learn.org/stable/modules/svm.html) and visualize its prediction."
   ]
  },
  {
   "cell_type": "code",
   "execution_count": 14,
   "id": "ccbd88e3-34e8-4aee-9fcd-e6d72e7c60fe",
   "metadata": {},
   "outputs": [],
   "source": [
    "from sklearn.svm import SVC\n",
    "\n",
    "classifier = SVC()"
   ]
  },
  {
   "cell_type": "code",
   "execution_count": null,
   "id": "8a0e2948-ecf7-4b74-8137-a46523b2ef50",
   "metadata": {},
   "outputs": [],
   "source": []
  }
 ],
 "metadata": {
  "kernelspec": {
   "display_name": "Python 3 (ipykernel)",
   "language": "python",
   "name": "python3"
  },
  "language_info": {
   "codemirror_mode": {
    "name": "ipython",
    "version": 3
   },
   "file_extension": ".py",
   "mimetype": "text/x-python",
   "name": "python",
   "nbconvert_exporter": "python",
   "pygments_lexer": "ipython3",
   "version": "3.9.13"
  }
 },
 "nbformat": 4,
 "nbformat_minor": 5
}
