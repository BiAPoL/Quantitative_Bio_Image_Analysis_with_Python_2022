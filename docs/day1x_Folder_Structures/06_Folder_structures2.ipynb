{
 "cells": [
  {
   "cell_type": "markdown",
   "id": "942c6097-7e58-44f9-b5db-6aea59390806",
   "metadata": {},
   "source": [
    "# Folder Structures"
   ]
  },
  {
   "cell_type": "markdown",
   "id": "ea6dfe5f-76a7-410a-805b-293c7c413d43",
   "metadata": {},
   "source": [
    "In the previous notebook, we saw how to access images if they are stored in a single folder. In this notebook, we will show two more organized examples of folder structures: an Omero-like structure and a machine learning suited structure."
   ]
  },
  {
   "cell_type": "code",
   "execution_count": 1,
   "id": "799a3567-f0f6-473a-ab5d-5cb0adc71599",
   "metadata": {},
   "outputs": [],
   "source": [
    "from skimage.io import imread, imsave\n",
    "import matplotlib.pyplot as plt\n",
    "from pathlib import Path\n",
    "import numpy as np"
   ]
  },
  {
   "cell_type": "markdown",
   "id": "72db1505-4618-4e6a-a51b-bc4cc51cf199",
   "metadata": {},
   "source": [
    "## Omero-like Structure"
   ]
  },
  {
   "cell_type": "markdown",
   "id": "1d5aa6aa-bf39-437d-9e73-690c1c7cae45",
   "metadata": {},
   "source": [
    "[Omero](https://www.openmicroscopy.org/omero/) is an image data management platform that handles image data and metadata, allowing to remotely view, organize, analyze and share images. Below is a screenshot of an Omero server.\n",
    "\n",
    "![](omero_screen2.png)\n",
    "\n",
    "On the left side, the folder structure can be obeserved. Omero operates with two levels of hierarchy: images can be put inside directories called Datasets, and Datasets can be put inside directories called Projects. Further differentiation of files is made via metadata, by means of image tags and image key-value pairs.\n",
    "\n",
    "Mimicking that structure, our local Project directory called \"Project2_Omero_like\" contains two folders (Datasets): Control and Group1, each containing images and other files."
   ]
  },
  {
   "cell_type": "markdown",
   "id": "5cb0e827-062f-4220-86ca-a4e138b0408f",
   "metadata": {},
   "source": [
    "```\n",
    "Project2_Omero_like\n",
    "|\n",
    "├─ Control\n",
    "|    ├─ Readme.txt\n",
    "|    ├─ A9 p5d.tif\n",
    "|    ⁞\n",
    "|\n",
    "├─ Group1\n",
    "|    ├─ Readme.txt\n",
    "|    ├─ 17P1_POS0006_D_1UL.tif\n",
    "|    ⁞ \n",
    "|     \n",
    "└─ Readme.txt\n",
    "```"
   ]
  },
  {
   "cell_type": "markdown",
   "id": "cf8f5d83-f843-4cee-ae8f-a632f09b5a71",
   "metadata": {},
   "source": [
    "### Opening multiple images from folders"
   ]
  },
  {
   "cell_type": "markdown",
   "id": "e3dd3d1e-ae15-46cd-9831-0784f9757829",
   "metadata": {},
   "source": [
    "We start by providing the path to the highest level folder."
   ]
  },
  {
   "cell_type": "code",
   "execution_count": 2,
   "id": "2c6f9b07-1849-4a50-8eb6-94524ade6559",
   "metadata": {},
   "outputs": [],
   "source": [
    "data_folder2 = '..\\..\\data\\Folder_Structures\\Project2_Omero_like' \n",
    "data_path = Path(data_folder2)"
   ]
  },
  {
   "cell_type": "markdown",
   "id": "a291b330-43fd-4528-9d49-0f0788642ffe",
   "metadata": {},
   "source": [
    "Since here we have a two-level hierarchy of directories, we need 2 `for` loops to iterate over each level. The first `for` loop iterates over the top level, .i.e, we get the paths to folders/files inside the \"Project\" folder."
   ]
  },
  {
   "cell_type": "code",
   "execution_count": 3,
   "id": "5d672cbc-01c3-411b-a4fa-093eb38f3d36",
   "metadata": {},
   "outputs": [
    {
     "name": "stdout",
     "output_type": "stream",
     "text": [
      "..\\..\\data\\Folder_Structures\\Project2_Omero_like\\Control\n",
      "..\\..\\data\\Folder_Structures\\Project2_Omero_like\\Group1\n",
      "..\\..\\data\\Folder_Structures\\Project2_Omero_like\\Readme.txt\n"
     ]
    }
   ],
   "source": [
    "for path in data_path.iterdir():\n",
    "    print(path)"
   ]
  },
  {
   "cell_type": "markdown",
   "id": "6e3e9b4d-52b8-42fa-bbba-9ad1f12e35ab",
   "metadata": {},
   "source": [
    "To access the lower levels, we need two things:\n",
    "    \n",
    "    1. Check if the path leads to another folder\n",
    "    2. If yes, iterate over this folder\n",
    "    \n",
    "We can do that by putting an `if` condition inside the first `for` loop and a second `for` loop to be run if the condition is met."
   ]
  },
  {
   "cell_type": "code",
   "execution_count": 4,
   "id": "97f6e474-95c2-419b-a31a-b164105d2c5f",
   "metadata": {},
   "outputs": [
    {
     "name": "stdout",
     "output_type": "stream",
     "text": [
      "Project folder path: \n",
      " ..\\..\\data\\Folder_Structures\\Project2_Omero_like\\Control\n",
      "Dataset folder path:  ..\\..\\data\\Folder_Structures\\Project2_Omero_like\\Control\\A9 p10d.tif\n",
      "Dataset folder path:  ..\\..\\data\\Folder_Structures\\Project2_Omero_like\\Control\\A9 p5d.tif\n",
      "Dataset folder path:  ..\\..\\data\\Folder_Structures\\Project2_Omero_like\\Control\\A9 p7d.tif\n",
      "Dataset folder path:  ..\\..\\data\\Folder_Structures\\Project2_Omero_like\\Control\\A9 p9d.tif\n",
      "Dataset folder path:  ..\\..\\data\\Folder_Structures\\Project2_Omero_like\\Control\\Readme.txt\n",
      "Project folder path: \n",
      " ..\\..\\data\\Folder_Structures\\Project2_Omero_like\\Group1\n",
      "Dataset folder path:  ..\\..\\data\\Folder_Structures\\Project2_Omero_like\\Group1\\17P1_POS0006_D_1UL.tif\n",
      "Dataset folder path:  ..\\..\\data\\Folder_Structures\\Project2_Omero_like\\Group1\\17P1_POS0007_D_1UL.tif\n",
      "Dataset folder path:  ..\\..\\data\\Folder_Structures\\Project2_Omero_like\\Group1\\17P1_POS0011_D_1UL.tif\n",
      "Dataset folder path:  ..\\..\\data\\Folder_Structures\\Project2_Omero_like\\Group1\\17P1_POS0013_D_1UL.tif\n",
      "Dataset folder path:  ..\\..\\data\\Folder_Structures\\Project2_Omero_like\\Group1\\17P1_POS0014_D_1UL.tif\n",
      "Dataset folder path:  ..\\..\\data\\Folder_Structures\\Project2_Omero_like\\Group1\\Readme.txt\n",
      "Project folder path: \n",
      " ..\\..\\data\\Folder_Structures\\Project2_Omero_like\\Readme.txt\n"
     ]
    }
   ],
   "source": [
    "# Fisrt for loop: iterates over Project folder\n",
    "for path in data_path.iterdir():\n",
    "    print('Project folder path: \\n', path)\n",
    "    # Check if path leads to another folder\n",
    "    if path.is_dir():\n",
    "        # In case the condition is met, iterate over the new path\n",
    "        for file_path in sorted(path.iterdir()):\n",
    "            print('Dataset folder path: ', file_path)"
   ]
  },
  {
   "cell_type": "markdown",
   "id": "2f397160-a4c8-4832-884f-a24fd4eedd17",
   "metadata": {},
   "source": [
    "As usual, to filter out files that are not images, we can add extra conditions. We also store paths from different folders in separated lists by checking the path `stem` (the final path component, without its suffix)."
   ]
  },
  {
   "cell_type": "code",
   "execution_count": 5,
   "id": "aa6eca0f-2e81-4360-b488-e44cd4d90071",
   "metadata": {},
   "outputs": [],
   "source": [
    "image_path_list_control = []\n",
    "image_path_list_group1 = []\n",
    "for path in data_path.iterdir():\n",
    "    \n",
    "    if path.is_dir():\n",
    "        \n",
    "        for file_path in sorted(path.iterdir()):\n",
    "            # Check if file is image (ends with .tif) and if current folder name is 'Control'\n",
    "            if (file_path.suffix == '.tif') and (path.stem == 'Control'):\n",
    "                image_path_list_control += [file_path]\n",
    "                \n",
    "            # Check if file is image (ends with .tif) and if current folder name is 'Group1'\n",
    "            elif (file_path.suffix == '.tif') and (path.stem == 'Group1'):\n",
    "                image_path_list_group1 += [file_path]"
   ]
  },
  {
   "cell_type": "code",
   "execution_count": 6,
   "id": "2c9bd873-5164-4dd6-bb1c-c2077a2fabfe",
   "metadata": {},
   "outputs": [
    {
     "data": {
      "text/plain": [
       "[WindowsPath('../../data/Folder_Structures/Project2_Omero_like/Control/A9 p10d.tif'),\n",
       " WindowsPath('../../data/Folder_Structures/Project2_Omero_like/Control/A9 p5d.tif'),\n",
       " WindowsPath('../../data/Folder_Structures/Project2_Omero_like/Control/A9 p7d.tif'),\n",
       " WindowsPath('../../data/Folder_Structures/Project2_Omero_like/Control/A9 p9d.tif')]"
      ]
     },
     "execution_count": 6,
     "metadata": {},
     "output_type": "execute_result"
    }
   ],
   "source": [
    "image_path_list_control"
   ]
  },
  {
   "cell_type": "code",
   "execution_count": 7,
   "id": "c622a5ed-7963-4510-abb8-c8f1e4ff41ba",
   "metadata": {},
   "outputs": [
    {
     "data": {
      "text/plain": [
       "[WindowsPath('../../data/Folder_Structures/Project2_Omero_like/Group1/17P1_POS0006_D_1UL.tif'),\n",
       " WindowsPath('../../data/Folder_Structures/Project2_Omero_like/Group1/17P1_POS0007_D_1UL.tif'),\n",
       " WindowsPath('../../data/Folder_Structures/Project2_Omero_like/Group1/17P1_POS0011_D_1UL.tif'),\n",
       " WindowsPath('../../data/Folder_Structures/Project2_Omero_like/Group1/17P1_POS0013_D_1UL.tif'),\n",
       " WindowsPath('../../data/Folder_Structures/Project2_Omero_like/Group1/17P1_POS0014_D_1UL.tif')]"
      ]
     },
     "execution_count": 7,
     "metadata": {},
     "output_type": "execute_result"
    }
   ],
   "source": [
    "image_path_list_group1"
   ]
  },
  {
   "cell_type": "markdown",
   "id": "e35ec0cb-718b-40ba-a55c-b7732540f26d",
   "metadata": {},
   "source": [
    "## Machine Learning Style Folder Structure"
   ]
  },
  {
   "cell_type": "markdown",
   "id": "35b1d7e8-a83f-42de-a007-e6c8fdc615c0",
   "metadata": {},
   "source": [
    "With machine learning or deep learning, we typically have a folder with intensity images and another folder with labeled images or masks with the same file name. Images in both folders must be read in pairs, so storing their paths in an ordered list is important.\n",
    "\n",
    "There are a few variations to this initial structure. One of them could be having another level on top separating these images into train, test and validation groups.\n",
    "\n",
    "Another possiblity is having a third folder with manual annotations for the labeled objects. This last structure is the one we replicated below, in our local folder called \"Project3_Machine_Learning_style\"."
   ]
  },
  {
   "cell_type": "markdown",
   "id": "776ef6ab-c135-421a-b380-2e98bf13e640",
   "metadata": {},
   "source": [
    "```\n",
    "Project3_Machine_learning_style\n",
    "|\n",
    "├─ Annotations\n",
    "|    ├─ image_01.tif\n",
    "|    ├─ image_02.tif\n",
    "|    ⁞\n",
    "|\n",
    "├─ Label_Images\n",
    "|    ├─ image_01.tif\n",
    "|    ├─ image_02.tif\n",
    "|    ⁞ \n",
    "|     \n",
    "├─ Raw_Images\n",
    "|    ├─ image_01.tif\n",
    "|    ├─ image_02.tif\n",
    "|    ⁞ \n",
    "└─ Readme.md\n",
    "```"
   ]
  },
  {
   "cell_type": "code",
   "execution_count": 8,
   "id": "d03119b1-bc43-4057-9ecb-9f358a7e32e5",
   "metadata": {},
   "outputs": [
    {
     "data": {
      "text/plain": [
       "WindowsPath('../../data/Folder_Structures/Project3_Machine_Learning_style')"
      ]
     },
     "execution_count": 8,
     "metadata": {},
     "output_type": "execute_result"
    }
   ],
   "source": [
    "data_folder3 = '..\\..\\data\\Folder_Structures\\Project3_Machine_Learning_style'\n",
    "data_path = Path(data_folder3)\n",
    "data_path"
   ]
  },
  {
   "cell_type": "markdown",
   "id": "837af7d6-da9d-489c-815e-b68426ded63d",
   "metadata": {},
   "source": [
    "## Exercise"
   ]
  },
  {
   "cell_type": "markdown",
   "id": "26aed7d4-8b96-4fd2-b718-27dce2ebb410",
   "metadata": {},
   "source": [
    "Iterate over this image repository and store each type of image path (raw, label and annotation) in a different list.\n",
    "\n",
    "In another cell, display the first image from each list."
   ]
  },
  {
   "cell_type": "code",
   "execution_count": null,
   "id": "2486b645-5e19-4a33-a477-ca1c1c4352e2",
   "metadata": {},
   "outputs": [],
   "source": []
  }
 ],
 "metadata": {
  "kernelspec": {
   "display_name": "Python 3 (ipykernel)",
   "language": "python",
   "name": "python3"
  },
  "language_info": {
   "codemirror_mode": {
    "name": "ipython",
    "version": 3
   },
   "file_extension": ".py",
   "mimetype": "text/x-python",
   "name": "python",
   "nbconvert_exporter": "python",
   "pygments_lexer": "ipython3",
   "version": "3.9.13"
  },
  "widgets": {
   "application/vnd.jupyter.widget-state+json": {
    "state": {},
    "version_major": 2,
    "version_minor": 0
   }
  }
 },
 "nbformat": 4,
 "nbformat_minor": 5
}
