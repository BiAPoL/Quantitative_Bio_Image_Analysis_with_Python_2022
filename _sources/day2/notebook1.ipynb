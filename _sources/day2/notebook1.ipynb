{
 "cells": [
  {
   "cell_type": "code",
   "execution_count": null,
   "id": "2cbc0283-883e-4707-af08-43cd0b7d628e",
   "metadata": {},
   "outputs": [],
   "source": [
    "# Napari"
   ]
  },
  {
   "cell_type": "code",
   "execution_count": null,
   "id": "7c19f6c9-6987-4738-a14f-f3d1d8c831f1",
   "metadata": {},
   "outputs": [],
   "source": [
    "import napari"
   ]
  }
 ],
 "metadata": {
  "kernelspec": {
   "display_name": "Python 3 (ipykernel)",
   "language": "python",
   "name": "python3"
  },
  "language_info": {
   "codemirror_mode": {
    "name": "ipython",
    "version": 3
   },
   "file_extension": ".py",
   "mimetype": "text/x-python",
   "name": "python",
   "nbconvert_exporter": "python",
   "pygments_lexer": "ipython3",
   "version": "3.9.13"
  }
 },
 "nbformat": 4,
 "nbformat_minor": 5
}
