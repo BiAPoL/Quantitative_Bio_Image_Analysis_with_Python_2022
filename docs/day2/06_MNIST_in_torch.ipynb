{
 "cells": [
  {
   "cell_type": "markdown",
   "metadata": {},
   "source": [
    "# Building a simple neural-network with Pytorch\n",
    "\n",
    "\n",
    "This is a simple quick-start in performing digit recognition in a neural network in Pytorch. It is strongly encouraged to create a new environment for this exercise.\n",
    "\n",
    "```\n",
    "conda create -n torch_mnist python=3.9\n",
    "conda activate torch_mnist\n",
    "conda install pytorch torchvision cudatoolkit=11.6 -c pytorch -c conda-forge\n",
    "```\n",
    "\n",
    "*Note*: This will not work for every platform. Look up the [pytorch](https://pytorch.org/get-started/locally/) to find the correct configuration for your platform (you may have to work on the CPU if your PC has no NVIDIA graphics card)\n",
    "\n",
    "[Notebook source](https://notebooks.githubusercontent.com/view/ipynb?browser=chrome&color_mode=auto&commit=755c9927bf72cc7da3f926bab5a96e61e4478eb0&device=unknown&enc_url=68747470733a2f2f7261772e67697468756275736572636f6e74656e742e636f6d2f5a6161626f6e2f4437303436452d4578657263697365732f373535633939323762663732636337646133663932366261623561393665363165343437386562302f4578657263697365312e6970796e62&logged_in=false&nwo=Zaabon%2FD7046E-Exercises&path=Exercise1.ipynb&platform=android&repository_id=220219243&repository_type=Repository&version=99)"
   ]
  },
  {
   "cell_type": "markdown",
   "metadata": {},
   "source": [
    "## Time to build a neural network!\n",
    "First let's import some prerequisites"
   ]
  },
  {
   "cell_type": "code",
   "execution_count": 2,
   "metadata": {
    "collapsed": false,
    "jupyter": {
     "outputs_hidden": false
    }
   },
   "outputs": [
    {
     "name": "stdout",
     "output_type": "stream",
     "text": [
      "Yes!? Python works alright :-)\n"
     ]
    }
   ],
   "source": [
    "import torch\n",
    "import torch.nn as nn\n",
    "import torch.nn.functional as F\n",
    "import torch.optim as optim\n",
    "from torch.utils.data import DataLoader\n",
    "from torchvision import datasets, transforms\n",
    "import matplotlib.pyplot as plt\n",
    "\n",
    "print(\"Yes!? Python works alright :-)\")"
   ]
  },
  {
   "cell_type": "markdown",
   "metadata": {},
   "source": [
    "## Load training data"
   ]
  },
  {
   "cell_type": "code",
   "execution_count": 3,
   "metadata": {
    "collapsed": false,
    "jupyter": {
     "outputs_hidden": false
    }
   },
   "outputs": [
    {
     "name": "stdout",
     "output_type": "stream",
     "text": [
      "Downloading http://yann.lecun.com/exdb/mnist/train-images-idx3-ubyte.gz\n",
      "Downloading http://yann.lecun.com/exdb/mnist/train-images-idx3-ubyte.gz to ./MNIST\\raw\\train-images-idx3-ubyte.gz\n"
     ]
    },
    {
     "data": {
      "application/vnd.jupyter.widget-view+json": {
       "model_id": "9b31ea9f64614e25b297ff6adb89c99c",
       "version_major": 2,
       "version_minor": 0
      },
      "text/plain": [
       "  0%|          | 0/9912422 [00:00<?, ?it/s]"
      ]
     },
     "metadata": {},
     "output_type": "display_data"
    },
    {
     "name": "stdout",
     "output_type": "stream",
     "text": [
      "Extracting ./MNIST\\raw\\train-images-idx3-ubyte.gz to ./MNIST\\raw\n",
      "\n",
      "Downloading http://yann.lecun.com/exdb/mnist/train-labels-idx1-ubyte.gz\n",
      "Downloading http://yann.lecun.com/exdb/mnist/train-labels-idx1-ubyte.gz to ./MNIST\\raw\\train-labels-idx1-ubyte.gz\n"
     ]
    },
    {
     "data": {
      "application/vnd.jupyter.widget-view+json": {
       "model_id": "7d1a5c6371ee4891a844cb8603592d41",
       "version_major": 2,
       "version_minor": 0
      },
      "text/plain": [
       "  0%|          | 0/28881 [00:00<?, ?it/s]"
      ]
     },
     "metadata": {},
     "output_type": "display_data"
    },
    {
     "name": "stdout",
     "output_type": "stream",
     "text": [
      "Extracting ./MNIST\\raw\\train-labels-idx1-ubyte.gz to ./MNIST\\raw\n",
      "\n",
      "Downloading http://yann.lecun.com/exdb/mnist/t10k-images-idx3-ubyte.gz\n",
      "Downloading http://yann.lecun.com/exdb/mnist/t10k-images-idx3-ubyte.gz to ./MNIST\\raw\\t10k-images-idx3-ubyte.gz\n"
     ]
    },
    {
     "data": {
      "application/vnd.jupyter.widget-view+json": {
       "model_id": "a07df40f06054664a4877434d1a957ed",
       "version_major": 2,
       "version_minor": 0
      },
      "text/plain": [
       "  0%|          | 0/1648877 [00:00<?, ?it/s]"
      ]
     },
     "metadata": {},
     "output_type": "display_data"
    },
    {
     "name": "stdout",
     "output_type": "stream",
     "text": [
      "Extracting ./MNIST\\raw\\t10k-images-idx3-ubyte.gz to ./MNIST\\raw\n",
      "\n",
      "Downloading http://yann.lecun.com/exdb/mnist/t10k-labels-idx1-ubyte.gz\n",
      "Downloading http://yann.lecun.com/exdb/mnist/t10k-labels-idx1-ubyte.gz to ./MNIST\\raw\\t10k-labels-idx1-ubyte.gz\n"
     ]
    },
    {
     "data": {
      "application/vnd.jupyter.widget-view+json": {
       "model_id": "c88264c923854b4bb193b179b32e9bdd",
       "version_major": 2,
       "version_minor": 0
      },
      "text/plain": [
       "  0%|          | 0/4542 [00:00<?, ?it/s]"
      ]
     },
     "metadata": {},
     "output_type": "display_data"
    },
    {
     "name": "stdout",
     "output_type": "stream",
     "text": [
      "Extracting ./MNIST\\raw\\t10k-labels-idx1-ubyte.gz to ./MNIST\\raw\n",
      "\n"
     ]
    },
    {
     "data": {
      "image/png": "[encoded data removed]",
      "text/plain": [
       "<Figure size 432x288 with 1 Axes>"
      ]
     },
     "metadata": {
      "needs_background": "light"
     },
     "output_type": "display_data"
    },
    {
     "data": {
      "image/png": "[encoded data removed]",
      "text/plain": [
       "<Figure size 432x288 with 1 Axes>"
      ]
     },
     "metadata": {
      "needs_background": "light"
     },
     "output_type": "display_data"
    },
    {
     "data": {
      "image/png": "[encoded data removed]",
      "text/plain": [
       "<Figure size 432x288 with 1 Axes>"
      ]
     },
     "metadata": {
      "needs_background": "light"
     },
     "output_type": "display_data"
    }
   ],
   "source": [
    "mnist_data = datasets.MNIST('./', train=True, download=True, transform=transforms.ToTensor())\n",
    "\n",
    "mnist_loader = DataLoader(mnist_data, batch_size=1000, shuffle=False)\n",
    "\n",
    "def plot_digit(data):\n",
    "    # Transfrom the images into an appropriate shape for displaying\n",
    "    data = data.view(28,28)\n",
    "    plt.imshow(data, cmap='gray')\n",
    "    plt.show()\n",
    "    \n",
    "images, labels = next(iter(mnist_loader))\n",
    "\n",
    "for idx in range(3):\n",
    "    plot_digit(images[idx])"
   ]
  },
  {
   "cell_type": "code",
   "execution_count": 4,
   "metadata": {
    "collapsed": false,
    "jupyter": {
     "outputs_hidden": false
    }
   },
   "outputs": [],
   "source": [
    "# This code initializes the neural network\n",
    "\n",
    "### EDIT CODE BELOW TO CHANGE THE NETWORK AND ITS OPTIMIZING PROCEDURE ###\n",
    "# nn.Sequential can be given a list of neural networks modules\n",
    "\n",
    "# This initial network has only one single linear layer.\n",
    "# It has an input size equal to the size of the images (28x28 pixels = 784)\n",
    "# and an output size equal to the number of classes (the number of digits = 10)\n",
    "network = nn.Sequential(\n",
    "    nn.Linear(784, 784),\n",
    "    nn.ReLU(),\n",
    "    nn.Linear(784, 784),\n",
    "    nn.ReLU(),\n",
    "    nn.Linear(784, 784),\n",
    "    nn.ReLU(),\n",
    "    nn.Linear(784, 10)\n",
    ")"
   ]
  },
  {
   "cell_type": "markdown",
   "metadata": {
    "jupyter": {
     "outputs_hidden": false
    }
   },
   "source": [
    "## Config\n",
    "In addition to changing optimizer you can try to change other parameters like learning rate (lr)"
   ]
  },
  {
   "cell_type": "code",
   "execution_count": 5,
   "metadata": {
    "collapsed": false,
    "jupyter": {
     "outputs_hidden": false
    }
   },
   "outputs": [],
   "source": [
    "optimizer = optim.SGD(network.parameters(), lr=0.15)\n",
    "\n",
    "# Initialize the loss function\n",
    "loss_function = nn.MSELoss()"
   ]
  },
  {
   "cell_type": "markdown",
   "metadata": {
    "jupyter": {
     "outputs_hidden": false
    }
   },
   "source": [
    "An Embedding layer used for turning int into one-hot (0 -> [1,0,0,0,0,0,0,0,0,0], 5 -> [0,0,0,0,0,1,0,0,0,0])"
   ]
  },
  {
   "cell_type": "code",
   "execution_count": 6,
   "metadata": {
    "collapsed": false,
    "jupyter": {
     "outputs_hidden": false
    }
   },
   "outputs": [],
   "source": [
    "to_onehot = nn.Embedding(10, 10) \n",
    "to_onehot.weight.data = torch.eye(10)"
   ]
  },
  {
   "cell_type": "markdown",
   "metadata": {
    "jupyter": {
     "outputs_hidden": false
    }
   },
   "source": [
    "The `Dataset` class is central to working with Pytorch. It provides a way to quickly access all data in your training/validation/test sets (see [documentation](https://pytorch.org/tutorials/beginner/basics/data_tutorial.html)). We can index it like normal arrays to retrieve the data in our datasets:"
   ]
  },
  {
   "cell_type": "code",
   "execution_count": 24,
   "metadata": {
    "collapsed": false,
    "jupyter": {
     "outputs_hidden": false
    }
   },
   "outputs": [
    {
     "ename": "AttributeError",
     "evalue": "'int' object has no attribute 'shape'",
     "output_type": "error",
     "traceback": [
      "\u001b[1;31m---------------------------------------------------------------------------\u001b[0m",
      "\u001b[1;31mAttributeError\u001b[0m                            Traceback (most recent call last)",
      "\u001b[1;32m~\\AppData\\Local\\Temp\\ipykernel_21076\\1804834161.py\u001b[0m in \u001b[0;36m<cell line: 1>\u001b[1;34m()\u001b[0m\n\u001b[1;32m----> 1\u001b[1;33m \u001b[0mmnist_data\u001b[0m\u001b[1;33m[\u001b[0m\u001b[1;36m0\u001b[0m\u001b[1;33m]\u001b[0m\u001b[1;33m[\u001b[0m\u001b[1;36m1\u001b[0m\u001b[1;33m]\u001b[0m\u001b[1;33m.\u001b[0m\u001b[0mshape\u001b[0m\u001b[1;33m\u001b[0m\u001b[1;33m\u001b[0m\u001b[0m\n\u001b[0m",
      "\u001b[1;31mAttributeError\u001b[0m: 'int' object has no attribute 'shape'"
     ]
    }
   ],
   "source": [
    "mnist_data[0][1]"
   ]
  },
  {
   "cell_type": "code",
   "execution_count": null,
   "metadata": {
    "collapsed": false,
    "jupyter": {
     "outputs_hidden": false
    }
   },
   "outputs": [],
   "source": []
  },
  {
   "cell_type": "code",
   "execution_count": 9,
   "metadata": {
    "collapsed": false,
    "jupyter": {
     "outputs_hidden": false
    }
   },
   "outputs": [],
   "source": [
    "# Extract some images from the dataset and have the new predict what digit they are\n",
    "def predict_on_images(iterator, images_to_show):\n",
    "    success=0\n",
    "    for index in range(images_to_show):\n",
    "        # Get the next batch of images\n",
    "        images, labels = next(iterator)\n",
    "\n",
    "        #plot_digit(images[0])\n",
    "\n",
    "        # Transform the images into a single list of pixels since our network takes that as its input\n",
    "        input_tensor = images[0].view(1,784)\n",
    "        # Run the input through our network to get a prediction\n",
    "        prediction = network(input_tensor)\n",
    "        # Extract which prediction had the highest probability\n",
    "        guess = torch.argmax(prediction[0], dim=-1)\n",
    "        # Show the predicted digit and the actual digit\n",
    "        print('Prediction:', guess.item(), \"- Actual:\", labels[0].item())\n",
    "        if guess.item()==labels[0].item():\n",
    "            success+=1\n",
    "    print(\"Success rate is \", success, \" on \", images_to_show)\n",
    "\n",
    "# Have the untrained network predict on some images\n",
    "predict_on_images(iterator = iter(mnist_loader), images_to_show = 3)"
   ]
  },
  {
   "cell_type": "markdown",
   "metadata": {},
   "source": [
    "## Format the data for training\n",
    "Our neural-network is going to take a single vector for each training example, so we need to reshape the input so that each 28x28 image becomes a single 784 dimensional vector. We'll also scale the inputs to be in the range [0-1] rather than [0-255]"
   ]
  },
  {
   "cell_type": "code",
   "execution_count": 10,
   "metadata": {
    "collapsed": false,
    "jupyter": {
     "outputs_hidden": false
    }
   },
   "outputs": [
    {
     "name": "stdout",
     "output_type": "stream",
     "text": [
      "Epoch 30 [60/60] - Loss: 0.015950569882988937"
     ]
    }
   ],
   "source": [
    "# Decide the number of epochs to train for (one epoch is one optimization iteration on the entire dataset)\n",
    "epochs = 30\n",
    "\n",
    "# For each epoch\n",
    "for epoch in range(epochs):\n",
    "    \n",
    "    # For each batch\n",
    "    for batch_nr, (images, labels) in enumerate(mnist_loader):\n",
    "        \n",
    "        # Extract the labels and turn them into one-hot representation (note: not all loss functions needs this)\n",
    "        labels = to_onehot(labels)\n",
    "        \n",
    "        # Reshape the images to a single vector (28*28 = 784)\n",
    "        images = images.view(-1,784)\n",
    "        \n",
    "        # Predict for each digit in the batch whatclass they belong to\n",
    "        prediction = network(images)\n",
    "        \n",
    "        # Calculate the loss of the prediction by comparing to the expected output\n",
    "        loss = loss_function(prediction, labels)\n",
    "        \n",
    "        # Backpropagate the loss through the network to find the gradients of all parameters\n",
    "        loss.backward()\n",
    "        \n",
    "        # Update the parameters along their gradients\n",
    "        optimizer.step()\n",
    "        \n",
    "        # Clear stored gradient values\n",
    "        optimizer.zero_grad()\n",
    "        \n",
    "        #Print the epoch, batch, and loss\n",
    "        print(\n",
    "            '\\rEpoch {} [{}/{}] - Loss: {}'.format(\n",
    "                epoch+1, batch_nr+1, len(mnist_loader), loss\n",
    "            ),\n",
    "            end=''\n",
    "        )"
   ]
  },
  {
   "cell_type": "code",
   "execution_count": 11,
   "metadata": {
    "collapsed": false,
    "jupyter": {
     "outputs_hidden": false
    }
   },
   "outputs": [
    {
     "name": "stdout",
     "output_type": "stream",
     "text": [
      "Prediction: 5 - Actual: 5\n",
      "Prediction: 0 - Actual: 0\n",
      "Prediction: 5 - Actual: 5\n",
      "Prediction: 9 - Actual: 9\n",
      "Prediction: 7 - Actual: 7\n",
      "Prediction: 7 - Actual: 7\n",
      "Prediction: 6 - Actual: 6\n",
      "Prediction: 8 - Actual: 8\n",
      "Prediction: 0 - Actual: 0\n",
      "Prediction: 6 - Actual: 6\n",
      "Prediction: 3 - Actual: 3\n",
      "Prediction: 6 - Actual: 6\n",
      "Prediction: 7 - Actual: 7\n",
      "Prediction: 7 - Actual: 7\n",
      "Prediction: 1 - Actual: 1\n",
      "Prediction: 5 - Actual: 5\n",
      "Prediction: 8 - Actual: 8\n",
      "Prediction: 3 - Actual: 3\n",
      "Prediction: 4 - Actual: 4\n",
      "Prediction: 8 - Actual: 8\n",
      "Prediction: 5 - Actual: 5\n",
      "Prediction: 7 - Actual: 7\n",
      "Prediction: 3 - Actual: 3\n",
      "Prediction: 7 - Actual: 7\n",
      "Prediction: 8 - Actual: 8\n",
      "Prediction: 7 - Actual: 3\n",
      "Prediction: 4 - Actual: 4\n",
      "Prediction: 5 - Actual: 5\n",
      "Prediction: 1 - Actual: 1\n",
      "Prediction: 2 - Actual: 2\n",
      "Prediction: 3 - Actual: 3\n",
      "Prediction: 5 - Actual: 6\n",
      "Prediction: 8 - Actual: 8\n",
      "Prediction: 3 - Actual: 3\n",
      "Prediction: 4 - Actual: 4\n",
      "Prediction: 1 - Actual: 1\n",
      "Prediction: 9 - Actual: 9\n",
      "Prediction: 4 - Actual: 4\n",
      "Prediction: 8 - Actual: 8\n",
      "Prediction: 9 - Actual: 9\n",
      "Prediction: 7 - Actual: 7\n",
      "Prediction: 5 - Actual: 5\n",
      "Prediction: 1 - Actual: 1\n",
      "Prediction: 9 - Actual: 9\n",
      "Prediction: 0 - Actual: 0\n",
      "Prediction: 3 - Actual: 3\n",
      "Prediction: 9 - Actual: 9\n",
      "Prediction: 0 - Actual: 0\n",
      "Prediction: 4 - Actual: 4\n",
      "Prediction: 4 - Actual: 4\n",
      "Success rate is  48  on  50\n"
     ]
    }
   ],
   "source": [
    "# Have the trained network predict on a number of images\n",
    "predict_on_images(iterator = iter(mnist_loader), images_to_show = 50)"
   ]
  },
  {
   "cell_type": "code",
   "execution_count": null,
   "metadata": {},
   "outputs": [],
   "source": []
  }
 ],
 "metadata": {
  "kernelspec": {
   "display_name": "Python 3 (ipykernel)",
   "language": "python",
   "name": "python3"
  },
  "language_info": {
   "codemirror_mode": {
    "name": "ipython",
    "version": 3
   },
   "file_extension": ".py",
   "mimetype": "text/x-python",
   "name": "python",
   "nbconvert_exporter": "python",
   "pygments_lexer": "ipython3",
   "version": "3.9.12"
  }
 },
 "nbformat": 4,
 "nbformat_minor": 4
}
