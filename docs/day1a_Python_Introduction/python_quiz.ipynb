{
 "cells": [
  {
   "cell_type": "code",
   "execution_count": null,
   "id": "ceaa468d-19c3-4992-9a22-62950627f9d8",
   "metadata": {},
   "outputs": [],
   "source": [
    "name = \"Robert\"\n",
    "room_number = 301\n",
    "\n",
    "print(name + room_number)"
   ]
  },
  {
   "cell_type": "code",
   "execution_count": null,
   "id": "01ad3636-159d-485f-85e4-2feface41a6b",
   "metadata": {},
   "outputs": [],
   "source": [
    "for i in range(0, 10, 2):\n",
    "    if i % 3 == 0:\n",
    "        print(i)"
   ]
  },
  {
   "cell_type": "code",
   "execution_count": null,
   "id": "7f987bc0-a0eb-47be-ae8a-76e9fad4ba45",
   "metadata": {},
   "outputs": [],
   "source": [
    "my_list = [0, 1, 2, 3, 4, 5, 6, 7, 8, 9]\n",
    "\n",
    "selection = my_list[::3]\n",
    "\n",
    "print(selection)"
   ]
  },
  {
   "cell_type": "code",
   "execution_count": null,
   "id": "50678213-4e36-4cf5-bfdf-4792127a4e9c",
   "metadata": {},
   "outputs": [],
   "source": [
    "x = 5\n",
    "\n",
    "def heavy_computation(x):\n",
    "    x = x + 1\n",
    "    return x\n",
    "\n",
    "heavy_computation(x)\n",
    "print(x)"
   ]
  }
 ],
 "metadata": {
  "kernelspec": {
   "display_name": "Python 3 (ipykernel)",
   "language": "python",
   "name": "python3"
  },
  "language_info": {
   "codemirror_mode": {
    "name": "ipython",
    "version": 3
   },
   "file_extension": ".py",
   "mimetype": "text/x-python",
   "name": "python",
   "nbconvert_exporter": "python",
   "pygments_lexer": "ipython3",
   "version": "3.9.13"
  }
 },
 "nbformat": 4,
 "nbformat_minor": 5
}
