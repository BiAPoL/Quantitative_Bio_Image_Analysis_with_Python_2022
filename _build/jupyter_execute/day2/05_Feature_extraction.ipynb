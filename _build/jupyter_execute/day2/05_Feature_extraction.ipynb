{
 "cells": [
  {
   "cell_type": "markdown",
   "id": "9021567d-e4ad-4b5d-84ba-6a136ea1abdb",
   "metadata": {},
   "source": [
    "# Feature Selection / Extraction"
   ]
  },
  {
   "cell_type": "markdown",
   "id": "7bb1d791-2131-466c-8c8b-721b4282a795",
   "metadata": {},
   "source": [
    "Ideas:\n",
    "- Define a few properties\n",
    "- skimage.regionprops_table, napari_skimage_regionprops_table\n",
    "- Good place to show dictionaries and dataframes\n",
    "- Plot properties in graphs (matplotlib or seaborn)\n",
    "- Display properties in images (map properties with skimage or clesperanto)"
   ]
  }
 ],
 "metadata": {
  "kernelspec": {
   "display_name": "Python 3 (ipykernel)",
   "language": "python",
   "name": "python3"
  },
  "language_info": {
   "codemirror_mode": {
    "name": "ipython",
    "version": 3
   },
   "file_extension": ".py",
   "mimetype": "text/x-python",
   "name": "python",
   "nbconvert_exporter": "python",
   "pygments_lexer": "ipython3",
   "version": "3.9.13"
  }
 },
 "nbformat": 4,
 "nbformat_minor": 5
}