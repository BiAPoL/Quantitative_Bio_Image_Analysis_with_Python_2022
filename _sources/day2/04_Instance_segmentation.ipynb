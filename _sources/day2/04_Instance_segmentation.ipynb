{
 "cells": [
  {
   "cell_type": "markdown",
   "id": "9021567d-e4ad-4b5d-84ba-6a136ea1abdb",
   "metadata": {},
   "source": [
    "# Instance Segmentation"
   ]
  },
  {
   "cell_type": "markdown",
   "id": "649c7bdc-3d63-47bc-8455-beef523d16ab",
   "metadata": {},
   "source": [
    "skimage.measure"
   ]
  },
  {
   "cell_type": "markdown",
   "id": "2e490537-00e6-49a0-824a-75be7321b282",
   "metadata": {},
   "source": [
    "## Connected components labeling"
   ]
  },
  {
   "cell_type": "code",
   "execution_count": null,
   "id": "2c8ec7bf-76b9-4c40-8dd9-0141867e2357",
   "metadata": {},
   "outputs": [],
   "source": []
  },
  {
   "cell_type": "markdown",
   "id": "eb680588-e8b1-445b-a5c5-aa9390324612",
   "metadata": {},
   "source": [
    "## Watershed/voronoi_ostu"
   ]
  },
  {
   "cell_type": "code",
   "execution_count": null,
   "id": "b96cb9df-a17e-4ef0-970f-8e88710e6968",
   "metadata": {},
   "outputs": [],
   "source": []
  },
  {
   "cell_type": "markdown",
   "id": "c6c10696-54f2-4a70-bfa8-f96c5bd5f699",
   "metadata": {},
   "source": [
    "# Maybe Random Forest Pixel Classifier"
   ]
  },
  {
   "cell_type": "code",
   "execution_count": null,
   "id": "7fa2cae0-1148-431b-803a-e15d4c95c767",
   "metadata": {},
   "outputs": [],
   "source": []
  }
 ],
 "metadata": {
  "kernelspec": {
   "display_name": "Python 3 (ipykernel)",
   "language": "python",
   "name": "python3"
  },
  "language_info": {
   "codemirror_mode": {
    "name": "ipython",
    "version": 3
   },
   "file_extension": ".py",
   "mimetype": "text/x-python",
   "name": "python",
   "nbconvert_exporter": "python",
   "pygments_lexer": "ipython3",
   "version": "3.9.13"
  }
 },
 "nbformat": 4,
 "nbformat_minor": 5
}
