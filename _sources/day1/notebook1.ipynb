{
 "cells": [
  {
   "cell_type": "markdown",
   "id": "9021567d-e4ad-4b5d-84ba-6a136ea1abdb",
   "metadata": {},
   "source": [
    "# Python Basics"
   ]
  },
  {
   "cell_type": "code",
   "execution_count": null,
   "id": "96e13ea8-37af-4dd4-8ce1-1dac02c61eaf",
   "metadata": {},
   "outputs": [],
   "source": [
    "a = []"
   ]
  },
  {
   "cell_type": "code",
   "execution_count": null,
   "id": "c6b9fbb2-d383-46b4-87f1-6a891a0570af",
   "metadata": {},
   "outputs": [],
   "source": [
    "type(a)"
   ]
  }
 ],
 "metadata": {
  "kernelspec": {
   "display_name": "Python 3 (ipykernel)",
   "language": "python",
   "name": "python3"
  },
  "language_info": {
   "codemirror_mode": {
    "name": "ipython",
    "version": 3
   },
   "file_extension": ".py",
   "mimetype": "text/x-python",
   "name": "python",
   "nbconvert_exporter": "python",
   "pygments_lexer": "ipython3",
   "version": "3.9.13"
  }
 },
 "nbformat": 4,
 "nbformat_minor": 5
}
