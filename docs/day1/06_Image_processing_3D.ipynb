{
 "cells": [
  {
   "cell_type": "markdown",
   "id": "9021567d-e4ad-4b5d-84ba-6a136ea1abdb",
   "metadata": {},
   "source": [
    "# Image Processing (3D Data)"
   ]
  },
  {
   "cell_type": "markdown",
   "id": "f720b477-049a-4451-b68b-63976b940d57",
   "metadata": {},
   "source": [
    "## Isotropic Data"
   ]
  },
  {
   "cell_type": "code",
   "execution_count": null,
   "id": "aad6ec03-222b-402b-9c0d-2fd996e2473e",
   "metadata": {},
   "outputs": [],
   "source": []
  }
 ],
 "metadata": {
  "kernelspec": {
   "display_name": "Python 3 (ipykernel)",
   "language": "python",
   "name": "python3"
  },
  "language_info": {
   "codemirror_mode": {
    "name": "ipython",
    "version": 3
   },
   "file_extension": ".py",
   "mimetype": "text/x-python",
   "name": "python",
   "nbconvert_exporter": "python",
   "pygments_lexer": "ipython3",
   "version": "3.9.13"
  }
 },
 "nbformat": 4,
 "nbformat_minor": 5
}
