{
 "cells": [
  {
   "cell_type": "markdown",
   "id": "9a5d38ce-7834-474c-a01f-feb2bb725368",
   "metadata": {},
   "source": [
    "# Image file formats\n",
    "When working with microscopy image data, many file formats are circulating. Most microscope vendors bring proprietary image file formats, image analysis software vendors offer custom and partially open file formats. Traditional file formats exist as well which are supported by common python libraries. For general-purpose image storage, only very few image file formats such as [TIF](https://en.wikipedia.org/wiki/TIFF) can be recommended. Furthermore, formats such as [JPEG](https://en.wikipedia.org/wiki/JPEG) should be avoided to conserve image data integrity. In this notebook we will test opening a different file format with a library desgined for that.\n",
    "\n",
    "See also\n",
    "* [ImageIO](https://github.com/imageio/imageio)\n",
    "* [AICSImageIO](https://github.com/AllenCellModeling/aicsimageio)\n",
    "* [python-bioformats](https://github.com/CellProfiler/python-bioformats)\n",
    "* [Moore et al. Nat Methods (2021) \"OME-NGFF: a next-generation file format for expanding bioimaging data-access strategies\"](https://www.nature.com/articles/s41592-021-01326-w)\n",
    "\n",
    "\n",
    "conda install -c conda-forge aicsimageio"
   ]
  },
  {
   "cell_type": "code",
   "execution_count": 1,
   "id": "5b890216-bbaa-4efa-9968-6112d7fedb65",
   "metadata": {},
   "outputs": [],
   "source": [
    "from aicsimageio import AICSImage"
   ]
  },
  {
   "cell_type": "code",
   "execution_count": 2,
   "id": "aa994c29-00ee-483e-b0bd-50ef4530a9f8",
   "metadata": {},
   "outputs": [],
   "source": [
    "file_path = r\"some_file.czi\""
   ]
  },
  {
   "cell_type": "code",
   "execution_count": 3,
   "id": "1acbc3ed-8772-4cee-b24e-1b708f18c317",
   "metadata": {},
   "outputs": [
    {
     "ename": "FileNotFoundError",
     "evalue": "file://C:/Users/mazo260d/Documents/GitHub/Quantitative_Bio_Image_Analysis_with_Python_2022/docs/day1_o_Reading_Images_and_Folder_Structures/some_file.czi",
     "output_type": "error",
     "traceback": [
      "\u001b[1;31m---------------------------------------------------------------------------\u001b[0m",
      "\u001b[1;31mFileNotFoundError\u001b[0m                         Traceback (most recent call last)",
      "Cell \u001b[1;32mIn [3], line 1\u001b[0m\n\u001b[1;32m----> 1\u001b[0m img \u001b[38;5;241m=\u001b[39m \u001b[43mAICSImage\u001b[49m\u001b[43m(\u001b[49m\u001b[43mfile_path\u001b[49m\u001b[43m)\u001b[49m\n",
      "File \u001b[1;32mC:\\Miniconda\\envs\\devbio-napari-env2\\lib\\site-packages\\aicsimageio\\aics_image.py:264\u001b[0m, in \u001b[0;36mAICSImage.__init__\u001b[1;34m(self, image, reader, reconstruct_mosaic, fs_kwargs, **kwargs)\u001b[0m\n\u001b[0;32m    254\u001b[0m \u001b[38;5;28;01mdef\u001b[39;00m \u001b[38;5;21m__init__\u001b[39m(\n\u001b[0;32m    255\u001b[0m     \u001b[38;5;28mself\u001b[39m,\n\u001b[0;32m    256\u001b[0m     image: types\u001b[38;5;241m.\u001b[39mImageLike,\n\u001b[1;32m   (...)\u001b[0m\n\u001b[0;32m    260\u001b[0m     \u001b[38;5;241m*\u001b[39m\u001b[38;5;241m*\u001b[39mkwargs: Any,\n\u001b[0;32m    261\u001b[0m ):\n\u001b[0;32m    262\u001b[0m     \u001b[38;5;28;01mif\u001b[39;00m reader \u001b[38;5;129;01mis\u001b[39;00m \u001b[38;5;28;01mNone\u001b[39;00m:\n\u001b[0;32m    263\u001b[0m         \u001b[38;5;66;03m# Determine reader class and create dask delayed array\u001b[39;00m\n\u001b[1;32m--> 264\u001b[0m         ReaderClass \u001b[38;5;241m=\u001b[39m \u001b[38;5;28mself\u001b[39m\u001b[38;5;241m.\u001b[39mdetermine_reader(image, fs_kwargs\u001b[38;5;241m=\u001b[39mfs_kwargs, \u001b[38;5;241m*\u001b[39m\u001b[38;5;241m*\u001b[39mkwargs)\n\u001b[0;32m    265\u001b[0m     \u001b[38;5;28;01melse\u001b[39;00m:\n\u001b[0;32m    266\u001b[0m         \u001b[38;5;66;03m# Init reader\u001b[39;00m\n\u001b[0;32m    267\u001b[0m         ReaderClass \u001b[38;5;241m=\u001b[39m reader\n",
      "File \u001b[1;32mC:\\Miniconda\\envs\\devbio-napari-env2\\lib\\site-packages\\aicsimageio\\aics_image.py:176\u001b[0m, in \u001b[0;36mAICSImage.determine_reader\u001b[1;34m(image, fs_kwargs, **kwargs)\u001b[0m\n\u001b[0;32m    174\u001b[0m \u001b[38;5;66;03m# Try reader detection based off of file path extension\u001b[39;00m\n\u001b[0;32m    175\u001b[0m \u001b[38;5;28;01mif\u001b[39;00m \u001b[38;5;28misinstance\u001b[39m(image, (\u001b[38;5;28mstr\u001b[39m, Path)):\n\u001b[1;32m--> 176\u001b[0m     _, path \u001b[38;5;241m=\u001b[39m \u001b[43mpathlike_to_fs\u001b[49m\u001b[43m(\u001b[49m\u001b[43mimage\u001b[49m\u001b[43m,\u001b[49m\u001b[43m \u001b[49m\u001b[43menforce_exists\u001b[49m\u001b[38;5;241;43m=\u001b[39;49m\u001b[38;5;28;43;01mTrue\u001b[39;49;00m\u001b[43m,\u001b[49m\u001b[43m \u001b[49m\u001b[43mfs_kwargs\u001b[49m\u001b[38;5;241;43m=\u001b[39;49m\u001b[43mfs_kwargs\u001b[49m\u001b[43m)\u001b[49m\n\u001b[0;32m    178\u001b[0m     \u001b[38;5;66;03m# Check for extension in FORMAT_IMPLEMENTATIONS\u001b[39;00m\n\u001b[0;32m    179\u001b[0m     \u001b[38;5;28;01mfor\u001b[39;00m format_ext, readers \u001b[38;5;129;01min\u001b[39;00m FORMAT_IMPLEMENTATIONS\u001b[38;5;241m.\u001b[39mitems():\n",
      "File \u001b[1;32mC:\\Miniconda\\envs\\devbio-napari-env2\\lib\\site-packages\\aicsimageio\\utils\\io_utils.py:56\u001b[0m, in \u001b[0;36mpathlike_to_fs\u001b[1;34m(uri, enforce_exists, fs_kwargs)\u001b[0m\n\u001b[0;32m     54\u001b[0m \u001b[38;5;28;01mif\u001b[39;00m enforce_exists:\n\u001b[0;32m     55\u001b[0m     \u001b[38;5;28;01mif\u001b[39;00m \u001b[38;5;129;01mnot\u001b[39;00m fs\u001b[38;5;241m.\u001b[39mexists(path):\n\u001b[1;32m---> 56\u001b[0m         \u001b[38;5;28;01mraise\u001b[39;00m \u001b[38;5;167;01mFileNotFoundError\u001b[39;00m(\u001b[38;5;124mf\u001b[39m\u001b[38;5;124m\"\u001b[39m\u001b[38;5;132;01m{\u001b[39;00mfs\u001b[38;5;241m.\u001b[39mprotocol\u001b[38;5;132;01m}\u001b[39;00m\u001b[38;5;124m://\u001b[39m\u001b[38;5;132;01m{\u001b[39;00mpath\u001b[38;5;132;01m}\u001b[39;00m\u001b[38;5;124m\"\u001b[39m)\n\u001b[0;32m     58\u001b[0m \u001b[38;5;66;03m# Get and store details\u001b[39;00m\n\u001b[0;32m     59\u001b[0m \u001b[38;5;66;03m# We do not return an AbstractBufferedFile (i.e. fs.open) as we do not want to have\u001b[39;00m\n\u001b[0;32m     60\u001b[0m \u001b[38;5;66;03m# any open file buffers _after_ any API call. API calls must themselves call\u001b[39;00m\n\u001b[0;32m     61\u001b[0m \u001b[38;5;66;03m# fs.open and complete their function during the context of the opened buffer.\u001b[39;00m\n\u001b[0;32m     62\u001b[0m \u001b[38;5;28;01mreturn\u001b[39;00m fs, path\n",
      "\u001b[1;31mFileNotFoundError\u001b[0m: file://C:/Users/mazo260d/Documents/GitHub/Quantitative_Bio_Image_Analysis_with_Python_2022/docs/day1_o_Reading_Images_and_Folder_Structures/some_file.czi"
     ]
    }
   ],
   "source": [
    "img = AICSImage(file_path)"
   ]
  },
  {
   "cell_type": "markdown",
   "id": "76da6cb2-278e-4ea4-ba69-662fa5ac8b14",
   "metadata": {},
   "source": [
    "Many of these formtas may return an image with much more dimentions than you would expect. Example: 'STCZYX'"
   ]
  },
  {
   "cell_type": "code",
   "execution_count": null,
   "id": "41cd96e6-6f37-4f17-a5cf-9a2b51a0ce2d",
   "metadata": {},
   "outputs": [],
   "source": []
  },
  {
   "cell_type": "markdown",
   "id": "04fde2b0-e63d-4be1-8931-286739132393",
   "metadata": {},
   "source": [
    "You should check the documentation of the respective libraries to understand how to get access to the right image dimentions."
   ]
  },
  {
   "cell_type": "code",
   "execution_count": null,
   "id": "0f56ce1e-3b3b-42a7-b358-bd09c0879058",
   "metadata": {},
   "outputs": [],
   "source": []
  }
 ],
 "metadata": {
  "kernelspec": {
   "display_name": "Python 3 (ipykernel)",
   "language": "python",
   "name": "python3"
  },
  "language_info": {
   "codemirror_mode": {
    "name": "ipython",
    "version": 3
   },
   "file_extension": ".py",
   "mimetype": "text/x-python",
   "name": "python",
   "nbconvert_exporter": "python",
   "pygments_lexer": "ipython3",
   "version": "3.9.13"
  },
  "widgets": {
   "application/vnd.jupyter.widget-state+json": {
    "state": {},
    "version_major": 2,
    "version_minor": 0
   }
  }
 },
 "nbformat": 4,
 "nbformat_minor": 5
}
