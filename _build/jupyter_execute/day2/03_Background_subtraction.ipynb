{
 "cells": [
  {
   "cell_type": "markdown",
   "id": "9021567d-e4ad-4b5d-84ba-6a136ea1abdb",
   "metadata": {},
   "source": [
    "# Background Subtraction"
   ]
  },
  {
   "cell_type": "markdown",
   "id": "b8075f6d-f7b3-471f-9061-25316b11bbe3",
   "metadata": {},
   "source": [
    "Ideas:\n",
    "- when to use it\n",
    "- grayscale morphological operations\n",
    "- top-hat filter"
   ]
  },
  {
   "cell_type": "code",
   "execution_count": null,
   "id": "874e0731-bedd-4013-8f0f-850741ff7322",
   "metadata": {},
   "outputs": [],
   "source": []
  }
 ],
 "metadata": {
  "kernelspec": {
   "display_name": "Python 3 (ipykernel)",
   "language": "python",
   "name": "python3"
  },
  "language_info": {
   "codemirror_mode": {
    "name": "ipython",
    "version": 3
   },
   "file_extension": ".py",
   "mimetype": "text/x-python",
   "name": "python",
   "nbconvert_exporter": "python",
   "pygments_lexer": "ipython3",
   "version": "3.9.13"
  }
 },
 "nbformat": 4,
 "nbformat_minor": 5
}