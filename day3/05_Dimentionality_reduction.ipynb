{
 "cells": [
  {
   "cell_type": "markdown",
   "id": "9021567d-e4ad-4b5d-84ba-6a136ea1abdb",
   "metadata": {},
   "source": [
    "# Dimentionality Reduction"
   ]
  },
  {
   "cell_type": "markdown",
   "id": "7ef2f91d-819e-4cca-bb5c-11386b4a8b0a",
   "metadata": {},
   "source": [
    "Ideas:\n",
    "- PCA\n",
    "- Other options with clusters-ploter"
   ]
  },
  {
   "cell_type": "code",
   "execution_count": null,
   "id": "732bd021-ee3b-481c-82fa-b1a6ecfcb1e4",
   "metadata": {},
   "outputs": [],
   "source": []
  }
 ],
 "metadata": {
  "kernelspec": {
   "display_name": "Python 3 (ipykernel)",
   "language": "python",
   "name": "python3"
  },
  "language_info": {
   "codemirror_mode": {
    "name": "ipython",
    "version": 3
   },
   "file_extension": ".py",
   "mimetype": "text/x-python",
   "name": "python",
   "nbconvert_exporter": "python",
   "pygments_lexer": "ipython3",
   "version": "3.9.13"
  }
 },
 "nbformat": 4,
 "nbformat_minor": 5
}
